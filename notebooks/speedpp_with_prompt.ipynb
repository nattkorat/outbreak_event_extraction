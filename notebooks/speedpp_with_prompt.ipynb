{
 "cells": [
  {
   "cell_type": "code",
   "execution_count": 1,
   "metadata": {},
   "outputs": [
    {
     "name": "stdout",
     "output_type": "stream",
     "text": [
      "/Users/nattkorat/Workspace/outbreak_event_extraction\n"
     ]
    }
   ],
   "source": [
    "%cd .."
   ]
  },
  {
   "cell_type": "code",
   "execution_count": 2,
   "metadata": {},
   "outputs": [],
   "source": [
    "import json\n",
    "from utils import prompt, response_parser, evaluation, semantic_similarity\n",
    "from llms import gemini2_5"
   ]
  },
  {
   "cell_type": "code",
   "execution_count": 12,
   "metadata": {},
   "outputs": [
    {
     "data": {
      "text/plain": [
       "{'text': 'My COVID19 antibodies test came back positive . Crazy . Ive had no symptoms . Please get tested if possible . The more data we have on this the better .',\n",
       " 'events': {'Infect': [{'trigger': 'positive',\n",
       "    'arguments': {'disease': 'COVID19', 'infected': 'My'}}]}}"
      ]
     },
     "execution_count": 12,
     "metadata": {},
     "output_type": "execute_result"
    }
   ],
   "source": [
    "with open('speedpp_templates.json', 'r') as f:\n",
    "    templates = json.load(f)\n",
    "\n",
    "templates[0]"
   ]
  },
  {
   "cell_type": "code",
   "execution_count": 4,
   "metadata": {},
   "outputs": [
    {
     "data": {
      "text/plain": [
       "{'text': 'I know it gets harder as the weeks go on , but PLEASE #( Stay At Home ) this weekend ( except for essential purposes ie food / medicine and exercise ). You are making a difference and saving lives . Lets stick with it for a bit longer to get this virus properly under control . Thank you',\n",
       " 'events': {'Control': [{'trigger': 'saving',\n",
       "    'arguments': {'disease': 'virus'}},\n",
       "   {'trigger': 'control',\n",
       "    'arguments': {'disease': 'this virus',\n",
       "     'effectiveness': 'saving lives',\n",
       "     'means': 'Stay At Home',\n",
       "     'subject': 'You'}}],\n",
       "  'Prevent': [{'trigger': 'Stay',\n",
       "    'arguments': {'disease': 'virus', 'means': 'Stay'}}]}}"
      ]
     },
     "execution_count": 4,
     "metadata": {},
     "output_type": "execute_result"
    }
   ],
   "source": [
    "with open('speedpp_test.json', 'r') as f:\n",
    "    test = json.load(f)\n",
    "test[0]"
   ]
  },
  {
   "cell_type": "code",
   "execution_count": 5,
   "metadata": {},
   "outputs": [
    {
     "name": "stdout",
     "output_type": "stream",
     "text": [
      "You are an AI assistant specializing in public health intelligence. Carefully read the news article provided below. Your mission is to identify all events related to the epidemic and extract key information for each event.\n",
      "Rule:\n",
      "- Identify a trigger word which of the following event types are mentioned: Infect, Spread, Symptom, Prevent, Control, Cure, and Death.\n",
      "- Trigger word is one word that MOST LIKELY manifests the event's occurrence.\n",
      "- For each event you find, extract the specific details corresponding to its \"Argument Roles\".\n",
      "- Requirement: If a specific detail (an argument role) is not mentioned in the text for a given event, you MUST not fill in.\n",
      "- If the article mentions multiple distinct events of the same type (e.g., two different control measures), list each one as a separate entry.\n",
      "- Present the final output as a single JSON object, with event types as keys.\n",
      "- Keep the orginal langauage\n",
      "\n",
      "EVENT DEFINITIONS & ARGUMENT ROLES:\n",
      "1. Infect: An event describing one or more individuals getting infected.\n",
      "    - infected: The person or group being infected (e.g., \"a 45-year-old man\", \"15 factory workers\").\n",
      "    - disease: The name of the disease.\n",
      "    - place: The location where the infection occurred.\n",
      "    - time: The date or time of the infection.\n",
      "    - value: The number of new infection cases.\n",
      "    - information-source: The source of this information (e.g., \"Ministry of Health\", \"local news\").\n",
      "2. Spread: An event describing the transmission or spread of the disease.\n",
      "    - population: The population affected by the spread.\n",
      "    - disease: The name of the disease.\n",
      "    - place: The location where the disease is spreading.\n",
      "    - time: The time period of the spread.\n",
      "    - value: The total number of cases related to the spread.\n",
      "    - information-source: The source of this information.\n",
      "    - trend: The trend of the spread (e.g., \"increasing\", \"slowing down\", \"stabilizing\").\n",
      "3. Symptom: An event describing the symptoms of the disease.\n",
      "    - person: The person or group exhibiting symptoms.\n",
      "    - symptom: The specific symptom(s) described (e.g., \"fever\", \"cough\").\n",
      "    - disease: The name of the disease causing the symptoms.\n",
      "    - place: The location where this is observed.\n",
      "    - time: When the symptoms were observed.\n",
      "    - duration: How long the symptoms last.\n",
      "    - information-source: The source of the symptom information.\n",
      "4. Prevent: An event describing preventive measures.\n",
      "    - agent: The entity taking preventive action (e.g., \"government\", \"citizens\").\n",
      "    - disease: The disease being prevented.\n",
      "    - means: The specific preventive measure (e.g., \"vaccination campaign\", \"mask mandate\").\n",
      "    - information-source: The source of this information.\n",
      "    - target: The intended target group for the prevention.\n",
      "    - effectiveness: The stated effectiveness of the measure.\n",
      "5. Control: An event describing measures to control the outbreak.\n",
      "    - authority: The authority implementing the control measure (e.g., \"CDC\", \"City Council\").\n",
      "    - disease: The disease being controlled.\n",
      "    - means: The specific control measure (e.g., \"lockdown\", \"travel restrictions\").\n",
      "    - place: The location where the measure is implemented.\n",
      "    - time: When the measure is in effect.\n",
      "    - information-source: The source of this information.\n",
      "    - subject: The people or entities affected by the control measure.\n",
      "    - effectiveness: The stated effectiveness of the measure.\n",
      "6. Cure: An event describing treatment or recovery from the disease.\n",
      "    - cured: The person or group that has been cured or recovered.\n",
      "    - disease: The disease they recovered from.\n",
      "    - means: The treatment or method used for the cure (e.g., \"antiviral medication\").\n",
      "    - place: The location of the recovery/treatment.\n",
      "    - time: When the recovery happened.\n",
      "    - value: The number of people cured.\n",
      "    - facility: The hospital or facility where the cure took place.\n",
      "    - information-source: The source of this information.\n",
      "    - effectiveness: The stated effectiveness of the treatment.\n",
      "    - duration: The duration of the treatment or recovery period.\n",
      "7. Death: An event describing death(s) from the disease.\n",
      "    - dead: The person or group that has died.\n",
      "    - disease: The disease that caused the death.\n",
      "    - place: The location of the death.\n",
      "    - time: The date or time of death.\n",
      "    - value: The number of deaths.\n",
      "    - information-source: The source of this information.\n",
      "    - trend: The trend of deaths (e.g., \"rising\", \"declining\").\n",
      "\n",
      "EXAMPLES:\n",
      "Article 1: My COVID19 antibodies test came back positive . Crazy . Ive had no symptoms . Please get tested if possible . The more data we have on this the better .\n",
      "Events: {'Infect': [{'trigger': 'positive', 'arguments': {'disease': 'COVID19', 'infected': 'My'}}]}\n",
      "\n",
      "Article 2: The politics of pandemic planning have become increasingly pitched as the ( url ) virus death toll rises . President Trump claims he inherited a broken system from the Obama administration . Critics counter that Trump had three years in office to prepare . ( url )\n",
      "Events: {'Control': [{'trigger': 'planning', 'arguments': {'disease': 'pandemic', 'effectiveness': 'increasingly pitched', 'means': 'planning'}}], 'Death': [{'trigger': 'death', 'arguments': {'disease': 'virus', 'trend': 'rises'}}]}\n",
      "\n",
      "Article 3: Age of people in Florida affected by COVID - 19 continues to trend younger : ( url )\n",
      "Events: {'Infect': [{'trigger': 'affected', 'arguments': {'disease': 'COVID - 19', 'infected': 'people', 'information_source': '( url )', 'place': 'Florida'}}]}\n",
      "\n",
      "Article 4: KITALO of Truck driver ' s infections of COVID - 19 , the number is above those who came through the airport ,& amp ; they were quarantined , these guys a free to move - then What Next ..???\n",
      "Events: {'Control': [{'trigger': 'quarantined', 'arguments': {'disease': 'COVID - 19', 'means': 'quarantined', 'subject': 'Truck driver'}}], 'Infect': [{'trigger': 'infections', 'arguments': {'disease': 'COVID - 19', 'infected': 'Truck driver'}}]}\n",
      "\n",
      "Article 5: ( user ) A pure meaning of extension on lockdown but why don ' t they close borders for a short time now we have reached 200 + the next day will be more bcoz this is most highest number u have registered so far since covid19 watch out pliz ugdns have suffered enough during the ongoing lockdow\n",
      "Events: {'Control': [{'trigger': 'lockdown', 'arguments': {'disease': 'covid19', 'means': 'close borders'}}], 'Spread': [{'trigger': 'reached', 'arguments': {'disease': 'covid19', 'population': 'we', 'trend': 'the next day will be more', 'value': '200'}}]}\n",
      "\n",
      "\n",
      "\n",
      "PROCESSING ARTICLE:\n",
      "With the news breaking about the Dem governors from the Northeast intentionally placing COVID - 19 infected in nursing homes it appears one could easily think that their end game was to drive up death numbers to give them a reason to shut everything down and hurt the country .\n"
     ]
    }
   ],
   "source": [
    "prompt_test = prompt.event_extraction_prompt_few_shot(\n",
    "    article=test[1]['text'],\n",
    "    samples=templates,\n",
    ")\n",
    "print(prompt_test)"
   ]
  },
  {
   "cell_type": "code",
   "execution_count": 6,
   "metadata": {},
   "outputs": [
    {
     "data": {
      "text/plain": [
       "{'Infect': [{'trigger': 'infected',\n",
       "   'arguments': {'disease': 'COVID - 19',\n",
       "    'infected': 'the Dem governors',\n",
       "    'place': 'nursing homes'}}],\n",
       " 'Death': [{'trigger': 'death',\n",
       "   'arguments': {'trend': 'drive up', 'disease': 'COVID - 19'}}],\n",
       " 'Control': [{'trigger': 'shut',\n",
       "   'arguments': {'means': 'shut everything down'}}]}"
      ]
     },
     "execution_count": 6,
     "metadata": {},
     "output_type": "execute_result"
    }
   ],
   "source": [
    "llm_response = gemini2_5.chat_with_gemini2_5(prompt_test)\n",
    "\n",
    "llm_response = response_parser.json_string_response_parser(llm_response)\n",
    "\n",
    "llm_response"
   ]
  },
  {
   "cell_type": "code",
   "execution_count": 7,
   "metadata": {},
   "outputs": [
    {
     "data": {
      "text/plain": [
       "{'Death': [{'trigger': 'death',\n",
       "   'arguments': {'disease': 'COVID - 19',\n",
       "    'place': 'nursing homes',\n",
       "    'trend': 'drive up'}}],\n",
       " 'Infect': [{'trigger': 'infected',\n",
       "   'arguments': {'disease': 'COVID - 19',\n",
       "    'infected': 'infected',\n",
       "    'place': 'nursing homes'}}]}"
      ]
     },
     "execution_count": 7,
     "metadata": {},
     "output_type": "execute_result"
    }
   ],
   "source": [
    "test[1]['events']"
   ]
  },
  {
   "cell_type": "code",
   "execution_count": 8,
   "metadata": {},
   "outputs": [
    {
     "data": {
      "text/plain": [
       "{'precision': 0.6666666644444444,\n",
       " 'recall': 0.999999995,\n",
       " 'f1': 0.799999992,\n",
       " 'tp': 2,\n",
       " 'fp': 1,\n",
       " 'fn': 0}"
      ]
     },
     "execution_count": 8,
     "metadata": {},
     "output_type": "execute_result"
    }
   ],
   "source": [
    "event_classification = evaluation.evaluate_event_types(test[1]['events'], llm_response)\n",
    "event_classification"
   ]
  },
  {
   "cell_type": "code",
   "execution_count": 11,
   "metadata": {},
   "outputs": [
    {
     "data": {
      "text/plain": [
       "{'Infect': {'precision': 0.9999999900000002,\n",
       "  'recall': 0.9999999900000002,\n",
       "  'f1': 0.9999999850000002,\n",
       "  'tp': 1,\n",
       "  'fp': 0,\n",
       "  'fn': 0},\n",
       " 'Death': {'precision': 0.9999999900000002,\n",
       "  'recall': 0.9999999900000002,\n",
       "  'f1': 0.9999999850000002,\n",
       "  'tp': 1,\n",
       "  'fp': 0,\n",
       "  'fn': 0},\n",
       " 'Control': {'precision': 0.0,\n",
       "  'recall': 0.0,\n",
       "  'f1': 0.0,\n",
       "  'tp': 0,\n",
       "  'fp': 1,\n",
       "  'fn': 0}}"
      ]
     },
     "execution_count": 11,
     "metadata": {},
     "output_type": "execute_result"
    }
   ],
   "source": [
    "trigger_identifiaction = evaluation.evaluate_event_triggers(\n",
    "    test[1]['events'],\n",
    "    llm_response,\n",
    "    semantic_fn=semantic_similarity.calculate_bleu,\n",
    "    threshold=0.5\n",
    ")\n",
    "trigger_identifiaction"
   ]
  },
  {
   "cell_type": "code",
   "execution_count": 13,
   "metadata": {},
   "outputs": [
    {
     "data": {
      "text/plain": [
       "{'Death': [{'disease': {'precision': 0.9999999900000002,\n",
       "    'recall': 0.9999999900000002,\n",
       "    'f1': 0.9999999850000002,\n",
       "    'tp': 1,\n",
       "    'fp': 0,\n",
       "    'fn': 0},\n",
       "   'place': {'precision': 0.0,\n",
       "    'recall': 0.0,\n",
       "    'f1': 0.0,\n",
       "    'tp': 0,\n",
       "    'fp': 0,\n",
       "    'fn': 1},\n",
       "   'trend': {'precision': 0.9999999900000002,\n",
       "    'recall': 0.9999999900000002,\n",
       "    'f1': 0.9999999850000002,\n",
       "    'tp': 1,\n",
       "    'fp': 0,\n",
       "    'fn': 0}}],\n",
       " 'Infect': [{'infected': {'precision': 0.0,\n",
       "    'recall': 0.0,\n",
       "    'f1': 0.0,\n",
       "    'tp': 0,\n",
       "    'fp': 1,\n",
       "    'fn': 1},\n",
       "   'disease': {'precision': 0.9999999900000002,\n",
       "    'recall': 0.9999999900000002,\n",
       "    'f1': 0.9999999850000002,\n",
       "    'tp': 1,\n",
       "    'fp': 0,\n",
       "    'fn': 0},\n",
       "   'place': {'precision': 0.9999999900000002,\n",
       "    'recall': 0.9999999900000002,\n",
       "    'f1': 0.9999999850000002,\n",
       "    'tp': 1,\n",
       "    'fp': 0,\n",
       "    'fn': 0}}]}"
      ]
     },
     "execution_count": 13,
     "metadata": {},
     "output_type": "execute_result"
    }
   ],
   "source": [
    "arguments_identification = evaluation.evaluate_event_arguments(\n",
    "    test[1]['events'],\n",
    "    llm_response,\n",
    "    semantic_fn=semantic_similarity.calculate_bleu,\n",
    "    threshold=0.5\n",
    ")\n",
    "arguments_identification"
   ]
  },
  {
   "cell_type": "markdown",
   "metadata": {},
   "source": [
    "## Notice: \n",
    "\n",
    "This method is harsh penanty to the argument extraction if the trigger word is false identify. Need to be considered!\n",
    "\n",
    "This evaluation is adapted from TextEE (mentioned in SPEED++), but using semnatic matching for confusion matrix."
   ]
  }
 ],
 "metadata": {
  "kernelspec": {
   "display_name": "ee",
   "language": "python",
   "name": "python3"
  },
  "language_info": {
   "codemirror_mode": {
    "name": "ipython",
    "version": 3
   },
   "file_extension": ".py",
   "mimetype": "text/x-python",
   "name": "python",
   "nbconvert_exporter": "python",
   "pygments_lexer": "ipython3",
   "version": "3.10.18"
  }
 },
 "nbformat": 4,
 "nbformat_minor": 2
}
