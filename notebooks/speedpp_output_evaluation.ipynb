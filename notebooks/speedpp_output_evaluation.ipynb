{
 "cells": [
  {
   "cell_type": "code",
   "execution_count": 1,
   "metadata": {},
   "outputs": [
    {
     "name": "stdout",
     "output_type": "stream",
     "text": [
      "/Users/nattkorat/Workspace/outbreak_event_extraction\n"
     ]
    }
   ],
   "source": [
    "%cd .."
   ]
  },
  {
   "cell_type": "code",
   "execution_count": 2,
   "metadata": {},
   "outputs": [],
   "source": [
    "import json\n",
    "import pandas as pd\n",
    "import seaborn as sns\n",
    "import matplotlib.pyplot as plt\n",
    "from collections import defaultdict\n",
    "from utils import evaluation, semantic_similarity"
   ]
  },
  {
   "cell_type": "code",
   "execution_count": 3,
   "metadata": {},
   "outputs": [],
   "source": [
    "data_path = {\n",
    "    'gold': 'data/speedpp_test_100.json',\n",
    "    'pred': 'outputs/gemini2_5__speedpp_100_samples_few_shot.jsonl',\n",
    "}"
   ]
  },
  {
   "cell_type": "code",
   "execution_count": 4,
   "metadata": {},
   "outputs": [],
   "source": [
    "for name, path in data_path.items():\n",
    "    with open(path, 'r') as f:\n",
    "        if name == 'gold':\n",
    "            data = json.load(f)\n",
    "        else:\n",
    "            data = [json.loads(line) for line in f]\n",
    "\n",
    "    if name == 'gold':\n",
    "        gold_data = data\n",
    "    else:\n",
    "        pred_data = data"
   ]
  },
  {
   "cell_type": "code",
   "execution_count": 5,
   "metadata": {},
   "outputs": [
    {
     "data": {
      "text/plain": [
       "{'id': '1cdd443c-3092-4018-8da7-74f10d98a752',\n",
       " 'text': 'My COVID19 antibodies test came back positive . Crazy . Ive had no symptoms . Please get tested if possible . The more data we have on this the better .',\n",
       " 'events': {'Infect': [{'trigger': 'positive',\n",
       "    'arguments': {'disease': 'COVID19', 'infected': 'My'}}]}}"
      ]
     },
     "execution_count": 5,
     "metadata": {},
     "output_type": "execute_result"
    }
   ],
   "source": [
    "gold_data[0]"
   ]
  },
  {
   "cell_type": "code",
   "execution_count": 6,
   "metadata": {},
   "outputs": [
    {
     "data": {
      "text/plain": [
       "[{'id': '1cdd443c-3092-4018-8da7-74f10d98a752',\n",
       "  'text': 'My COVID19 antibodies test came back positive . Crazy . Ive had no symptoms . Please get tested if possible . The more data we have on this the better .',\n",
       "  'events': {'Infect': [{'trigger': 'positive',\n",
       "     'arguments': {'disease': 'COVID19', 'infected': 'My'}}]}},\n",
       " {'id': 'a5c4a89f-820b-4c47-a2b9-ac8889847e87',\n",
       "  'text': 'The politics of pandemic planning have become increasingly pitched as the ( url ) virus death toll rises . President Trump claims he inherited a broken system from the Obama administration . Critics counter that Trump had three years in office to prepare . ( url )',\n",
       "  'events': {'Control': [{'trigger': 'planning',\n",
       "     'arguments': {'disease': 'pandemic',\n",
       "      'effectiveness': 'increasingly pitched',\n",
       "      'means': 'planning'}}],\n",
       "   'Death': [{'trigger': 'death',\n",
       "     'arguments': {'disease': 'virus', 'trend': 'rises'}}]}}]"
      ]
     },
     "execution_count": 6,
     "metadata": {},
     "output_type": "execute_result"
    }
   ],
   "source": [
    "pred_data[:2]"
   ]
  },
  {
   "cell_type": "code",
   "execution_count": 7,
   "metadata": {},
   "outputs": [],
   "source": [
    "def data_transform(data):\n",
    "    transformed_data = []\n",
    "    for item in data:\n",
    "        events = {\n",
    "            'id': item['id'],\n",
    "            'events': [],\n",
    "        }\n",
    "        for event in item['events']:\n",
    "            for e in item['events'][event]:\n",
    "                events['events'].append({\n",
    "                    'type': event,\n",
    "                    'trigger': e['trigger'],\n",
    "                    'arguments': [\n",
    "                        {\n",
    "                            'role': k,\n",
    "                            'text': v\n",
    "                        } for k, v in e['arguments'].items()\n",
    "                    ]\n",
    "                })\n",
    "        transformed_data.append(events)\n",
    "    return transformed_data\n",
    "    "
   ]
  },
  {
   "cell_type": "code",
   "execution_count": 8,
   "metadata": {},
   "outputs": [],
   "source": [
    "gold_transformed = data_transform(gold_data)\n",
    "pred_transformed = data_transform(pred_data)"
   ]
  },
  {
   "cell_type": "code",
   "execution_count": 9,
   "metadata": {},
   "outputs": [
    {
     "data": {
      "text/plain": [
       "{'id': 'a5c4a89f-820b-4c47-a2b9-ac8889847e87',\n",
       " 'events': [{'type': 'Control',\n",
       "   'trigger': 'planning',\n",
       "   'arguments': [{'role': 'disease', 'text': 'pandemic'},\n",
       "    {'role': 'effectiveness', 'text': 'increasingly pitched'},\n",
       "    {'role': 'means', 'text': 'planning'}]},\n",
       "  {'type': 'Death',\n",
       "   'trigger': 'death',\n",
       "   'arguments': [{'role': 'disease', 'text': 'virus'},\n",
       "    {'role': 'trend', 'text': 'rises'}]}]}"
      ]
     },
     "execution_count": 9,
     "metadata": {},
     "output_type": "execute_result"
    }
   ],
   "source": [
    "gold_transformed[1]"
   ]
  },
  {
   "cell_type": "code",
   "execution_count": 10,
   "metadata": {},
   "outputs": [
    {
     "data": {
      "text/plain": [
       "{'id': 'a5c4a89f-820b-4c47-a2b9-ac8889847e87',\n",
       " 'events': [{'type': 'Control',\n",
       "   'trigger': 'planning',\n",
       "   'arguments': [{'role': 'disease', 'text': 'pandemic'},\n",
       "    {'role': 'effectiveness', 'text': 'increasingly pitched'},\n",
       "    {'role': 'means', 'text': 'planning'}]},\n",
       "  {'type': 'Death',\n",
       "   'trigger': 'death',\n",
       "   'arguments': [{'role': 'disease', 'text': 'virus'},\n",
       "    {'role': 'trend', 'text': 'rises'}]}]}"
      ]
     },
     "execution_count": 10,
     "metadata": {},
     "output_type": "execute_result"
    }
   ],
   "source": [
    "pred_transformed[1]"
   ]
  },
  {
   "cell_type": "code",
   "execution_count": 11,
   "metadata": {},
   "outputs": [],
   "source": [
    "def build_event_type_confusion_matrix(gold_data, pred_data):\n",
    "    matrix = defaultdict(lambda: defaultdict(int))\n",
    "\n",
    "    for gold_item, pred_item in zip(gold_data, pred_data):\n",
    "        assert gold_item['id'] == pred_item['id']\n",
    "\n",
    "        gold_events = gold_item.get(\"events\", [])\n",
    "        pred_events = pred_item.get(\"events\", [])\n",
    "        \n",
    "        if not gold_events and not pred_events:\n",
    "            matrix['<none>']['<none>'] += 1\n",
    "            continue\n",
    "\n",
    "        gold_used = [False] * len(gold_events)\n",
    "        pred_used = [False] * len(pred_events)\n",
    "\n",
    "        # Step 1: Exact type match first\n",
    "        for g_idx, g_event in enumerate(gold_events):\n",
    "            for p_idx, p_event in enumerate(pred_events):\n",
    "                if not gold_used[g_idx] and not pred_used[p_idx]:\n",
    "                    if g_event['type'] == p_event['type']:\n",
    "                        matrix[g_event['type']][p_event['type']] += 1\n",
    "                        gold_used[g_idx] = True\n",
    "                        pred_used[p_idx] = True\n",
    "                        break\n",
    "\n",
    "        # Step 2: Try to align mismatched types for remaining ones\n",
    "        for g_idx, g_event in enumerate(gold_events):\n",
    "            if gold_used[g_idx]:\n",
    "                continue\n",
    "            for p_idx, p_event in enumerate(pred_events):\n",
    "                if not pred_used[p_idx]:\n",
    "                    matrix[g_event['type']][p_event['type']] += 1\n",
    "                    gold_used[g_idx] = True\n",
    "                    pred_used[p_idx] = True\n",
    "                    break\n",
    "\n",
    "        # Step 3: Leftover golds → FN\n",
    "        for g_idx, g_event in enumerate(gold_events):\n",
    "            if not gold_used[g_idx]:\n",
    "                matrix[g_event['type']]['<none>'] += 1\n",
    "\n",
    "        # Step 4: Leftover preds → FP\n",
    "        for p_idx, p_event in enumerate(pred_events):\n",
    "            if not pred_used[p_idx]:\n",
    "                matrix['<none>'][p_event['type']] += 1\n",
    "\n",
    "    return matrix\n",
    "\n",
    "def plot_event_type_confusion(confusion_matrix):\n",
    "    # Get all unique event types (including '<none>')\n",
    "    all_types = sorted(set(confusion_matrix.keys()) | \n",
    "                       {k for v in confusion_matrix.values() for k in v.keys()})\n",
    "    \n",
    "    # Create DataFrame with explicit index and columns\n",
    "    df = pd.DataFrame(confusion_matrix).fillna(0).astype(int)\n",
    "    df = df.reindex(index=all_types, columns=all_types, fill_value=0)\n",
    "\n",
    "    # Plotting\n",
    "    plt.figure(figsize=(8, 6))\n",
    "    sns.heatmap(df, annot=True, fmt='d', cmap='Blues', linewidths=0.5, square=True)\n",
    "    plt.title(\"Event Type Confusion Matrix\")\n",
    "    plt.xlabel(\"Predicted\")\n",
    "    plt.ylabel(\"Gold\")\n",
    "    plt.tight_layout()\n",
    "    plt.show()"
   ]
  },
  {
   "cell_type": "code",
   "execution_count": 12,
   "metadata": {},
   "outputs": [
    {
     "data": {
      "text/plain": [
       "defaultdict(<function __main__.build_event_type_confusion_matrix.<locals>.<lambda>()>,\n",
       "            {'Infect': defaultdict(int,\n",
       "                         {'Infect': 15,\n",
       "                          'Prevent': 2,\n",
       "                          '<none>': 3,\n",
       "                          'Symptom': 1}),\n",
       "             'Control': defaultdict(int,\n",
       "                         {'Control': 17,\n",
       "                          '<none>': 5,\n",
       "                          'Spread': 2,\n",
       "                          'Prevent': 6}),\n",
       "             'Death': defaultdict(int, {'Death': 8}),\n",
       "             'Spread': defaultdict(int,\n",
       "                         {'Spread': 9, 'Infect': 2, '<none>': 2}),\n",
       "             'Prevent': defaultdict(int,\n",
       "                         {'Prevent': 10, '<none>': 1, 'Infect': 1}),\n",
       "             '<none>': defaultdict(int,\n",
       "                         {'Control': 12,\n",
       "                          'Prevent': 12,\n",
       "                          'Infect': 7,\n",
       "                          'Symptom': 4,\n",
       "                          '<none>': 12,\n",
       "                          'Spread': 5,\n",
       "                          'Death': 5,\n",
       "                          'Cure': 1}),\n",
       "             'Symptom': defaultdict(int, {'<none>': 5, 'Symptom': 8}),\n",
       "             'Cure': defaultdict(int,\n",
       "                         {'Cure': 11,\n",
       "                          '<none>': 2,\n",
       "                          'Infect': 2,\n",
       "                          'Prevent': 1})})"
      ]
     },
     "execution_count": 12,
     "metadata": {},
     "output_type": "execute_result"
    }
   ],
   "source": [
    "conf_matrix = build_event_type_confusion_matrix(gold_transformed, pred_transformed)\n",
    "conf_matrix"
   ]
  },
  {
   "cell_type": "code",
   "execution_count": 13,
   "metadata": {},
   "outputs": [
    {
     "data": {
      "image/png": "[encoded data removed]",
      "text/plain": [
       "<Figure size 800x600 with 2 Axes>"
      ]
     },
     "metadata": {},
     "output_type": "display_data"
    }
   ],
   "source": [
    "plot_event_type_confusion(conf_matrix)"
   ]
  },
  {
   "cell_type": "markdown",
   "metadata": {},
   "source": [
    "This is not really a fair technique yet for counting the miss match event since we cannot align the gold and predict events. For instance, in the gold there are `Infect` and `Cure`, but in the Pred has `Prevent`. This means, Infect(FN) = 1, Cure(FN) = 1, Prevent(FP) = 1, but this negative result can't imply to any other event like is `Prevent` vs `Infect` or `Prevent` vs `Cure`?"
   ]
  },
  {
   "cell_type": "code",
   "execution_count": 14,
   "metadata": {},
   "outputs": [],
   "source": [
    "def evaluate_confusion_matrix(confusion_matrix):\n",
    "    # Convert to DataFrame with sorted rows and columns\n",
    "    all_types = sorted(set(confusion_matrix.keys()) | \n",
    "                       {k for v in confusion_matrix.values() for k in v})\n",
    "    df = pd.DataFrame(confusion_matrix).fillna(0).astype(int)\n",
    "    df = df.reindex(index=all_types, columns=all_types, fill_value=0)\n",
    "\n",
    "    metrics = {}\n",
    "\n",
    "    total_tp = total_fp = total_fn = total = correct = 0\n",
    "\n",
    "    for label in all_types:\n",
    "        tp = df.at[label, label]  # True Positives\n",
    "        fp = df[label].sum() - tp  # Predicted as label, but wrong (column sum minus TP)\n",
    "        fn = df.loc[label].sum() - tp  # Actually label, but predicted wrong (row sum minus TP)\n",
    "\n",
    "        precision = tp / (tp + fp) if tp + fp > 0 else 0\n",
    "        recall    = tp / (tp + fn) if tp + fn > 0 else 0\n",
    "        f1        = 2 * precision * recall / (precision + recall) if precision + recall > 0 else 0\n",
    "\n",
    "        metrics[label] = {\n",
    "            \"precision\": round(precision, 4),\n",
    "            \"recall\": round(recall, 4),\n",
    "            \"f1\": round(f1, 4),\n",
    "            \"tp\": tp,\n",
    "            \"fp\": fp,\n",
    "            \"fn\": fn\n",
    "        }\n",
    "\n",
    "        total_tp += tp\n",
    "        total_fp += fp\n",
    "        total_fn += fn\n",
    "        correct += tp\n",
    "        total += df.loc[label].sum()  # total actual instances for this label\n",
    "\n",
    "    overall_precision = total_tp / (total_tp + total_fp) if total_tp + total_fp > 0 else 0\n",
    "    overall_recall    = total_tp / (total_tp + total_fn) if total_tp + total_fn > 0 else 0\n",
    "    overall_f1        = 2 * overall_precision * overall_recall / (overall_precision + overall_recall) if overall_precision + overall_recall > 0 else 0\n",
    "    overall_accuracy  = correct / df.values.sum() if df.values.sum() > 0 else 0\n",
    "\n",
    "    metrics[\"overall\"] = {\n",
    "        \"precision\": round(overall_precision, 4),\n",
    "        \"recall\": round(overall_recall, 4),\n",
    "        \"f1\": round(overall_f1, 4),\n",
    "        \"accuracy\": round(overall_accuracy, 4),\n",
    "        \"tp\": total_tp,\n",
    "        \"fp\": total_fp,\n",
    "        \"fn\": total_fn\n",
    "    }\n",
    "\n",
    "    return metrics"
   ]
  },
  {
   "cell_type": "code",
   "execution_count": 15,
   "metadata": {},
   "outputs": [],
   "source": [
    "import pandas as pd\n",
    "\n",
    "def print_confusion_metrics_table(metrics):\n",
    "    # Convert dictionary to DataFrame\n",
    "    df = pd.DataFrame(metrics).T\n",
    "\n",
    "    # Reorder columns if they exist\n",
    "    cols = ['tp', 'fp', 'fn', 'precision', 'recall', 'f1', 'accuracy']\n",
    "    df = df[[c for c in cols if c in df.columns]]\n",
    "\n",
    "    # Format float values for better readability\n",
    "    float_cols = ['precision', 'recall', 'f1', 'accuracy']\n",
    "    for col in float_cols:\n",
    "        if col in df.columns:\n",
    "            df[col] = df[col].map(lambda x: f\"{x:.4f}\")\n",
    "\n",
    "    # Display the DataFrame\n",
    "    print(\"\\nEvaluation Metrics Table:\")\n",
    "    print(df.to_markdown(tablefmt=\"grid\"))"
   ]
  },
  {
   "cell_type": "code",
   "execution_count": 16,
   "metadata": {},
   "outputs": [
    {
     "name": "stdout",
     "output_type": "stream",
     "text": [
      "\n",
      "Evaluation Metrics Table:\n",
      "+---------+------+------+------+-------------+----------+--------+------------+\n",
      "|         |   tp |   fp |   fn |   precision |   recall |     f1 |   accuracy |\n",
      "+=========+======+======+======+=============+==========+========+============+\n",
      "| <none>  |   12 |   46 |   18 |      0.2069 |   0.4    | 0.2727 |   nan      |\n",
      "+---------+------+------+------+-------------+----------+--------+------------+\n",
      "| Control |   17 |   13 |   12 |      0.5667 |   0.5862 | 0.5763 |   nan      |\n",
      "+---------+------+------+------+-------------+----------+--------+------------+\n",
      "| Cure    |   11 |    5 |    1 |      0.6875 |   0.9167 | 0.7857 |   nan      |\n",
      "+---------+------+------+------+-------------+----------+--------+------------+\n",
      "| Death   |    8 |    0 |    5 |      1      |   0.6154 | 0.7619 |   nan      |\n",
      "+---------+------+------+------+-------------+----------+--------+------------+\n",
      "| Infect  |   15 |    6 |   12 |      0.7143 |   0.5556 | 0.625  |   nan      |\n",
      "+---------+------+------+------+-------------+----------+--------+------------+\n",
      "| Prevent |   10 |    2 |   21 |      0.8333 |   0.3226 | 0.4651 |   nan      |\n",
      "+---------+------+------+------+-------------+----------+--------+------------+\n",
      "| Spread  |    9 |    4 |    7 |      0.6923 |   0.5625 | 0.6207 |   nan      |\n",
      "+---------+------+------+------+-------------+----------+--------+------------+\n",
      "| Symptom |    8 |    5 |    5 |      0.6154 |   0.6154 | 0.6154 |   nan      |\n",
      "+---------+------+------+------+-------------+----------+--------+------------+\n",
      "| overall |   90 |   81 |   81 |      0.5263 |   0.5263 | 0.5263 |     0.5263 |\n",
      "+---------+------+------+------+-------------+----------+--------+------------+\n"
     ]
    }
   ],
   "source": [
    "print_confusion_metrics_table(evaluate_confusion_matrix(conf_matrix))"
   ]
  },
  {
   "cell_type": "code",
   "execution_count": 17,
   "metadata": {},
   "outputs": [],
   "source": [
    "trigger_word_gold = defaultdict(list)\n",
    "trigger_word_pred = defaultdict(list)\n",
    "\n",
    "for item in gold_transformed:\n",
    "    for event in item['events']:\n",
    "        trigger_word_gold[event['type']].append(event['trigger'])\n",
    "\n",
    "for item in pred_transformed:\n",
    "    for event in item['events']:\n",
    "        trigger_word_pred[event['type']].append(event['trigger'])"
   ]
  },
  {
   "cell_type": "code",
   "execution_count": 18,
   "metadata": {},
   "outputs": [
    {
     "name": "stderr",
     "output_type": "stream",
     "text": [
      "/opt/homebrew/Caskroom/miniconda/base/envs/ee/lib/python3.10/site-packages/fuzzywuzzy/fuzz.py:11: UserWarning: Using slow pure-python SequenceMatcher. Install python-Levenshtein to remove this warning\n",
      "  warnings.warn('Using slow pure-python SequenceMatcher. Install python-Levenshtein to remove this warning')\n"
     ]
    }
   ],
   "source": [
    "from fuzzywuzzy import fuzz\n",
    "\n",
    "def evaluate_trigger_by_type(trigger_word_gold, trigger_word_pred, match_threshold=85):\n",
    "    results = {}\n",
    "\n",
    "    all_types = set(trigger_word_gold.keys()) | set(trigger_word_pred.keys())\n",
    "\n",
    "    for event_type in all_types:\n",
    "        gold_triggers = trigger_word_gold.get(event_type, [])\n",
    "        pred_triggers = trigger_word_pred.get(event_type, [])\n",
    "\n",
    "        matched_gold = set()\n",
    "        matched_pred = set()\n",
    "\n",
    "        for i, gt in enumerate(gold_triggers):\n",
    "            for j, pt in enumerate(pred_triggers):\n",
    "                if j in matched_pred:\n",
    "                    continue\n",
    "                if gt == pt:\n",
    "                    matched_gold.add(i)\n",
    "                    matched_pred.add(j)\n",
    "                    break\n",
    "\n",
    "        tp = len(matched_gold)\n",
    "        fp = len(pred_triggers) - tp\n",
    "        fn = len(gold_triggers) - tp\n",
    "\n",
    "        precision = tp / (tp + fp) if tp + fp > 0 else 0\n",
    "        recall = tp / (tp + fn) if tp + fn > 0 else 0\n",
    "        f1 = 2 * precision * recall / (precision + recall) if precision + recall > 0 else 0\n",
    "\n",
    "        results[event_type] = {\n",
    "            'TP': tp, 'FP': fp, 'FN': fn,\n",
    "            'Precision': round(precision, 4),\n",
    "            'Recall': round(recall, 4),\n",
    "            'F1': round(f1, 4),\n",
    "            'Gold Count': len(gold_triggers),\n",
    "            'Pred Count': len(pred_triggers)\n",
    "        }\n",
    "        \n",
    "    return results"
   ]
  },
  {
   "cell_type": "code",
   "execution_count": 19,
   "metadata": {},
   "outputs": [],
   "source": [
    "def print_trigger_eval_table(results):\n",
    "    print(f\"{'Event Type':<15} {'Gold':<6} {'Pred':<6} {'TP':<4} {'FP':<4} {'FN':<4} {'Prec':<6} {'Rec':<6} {'F1':<6}\")\n",
    "    print(\"-\" * 65)\n",
    "    for etype, metrics in results.items():\n",
    "        print(f\"{etype:<15} {metrics['Gold Count']:<6} {metrics['Pred Count']:<6} {metrics['TP']:<4} {metrics['FP']:<4} {metrics['FN']:<4} {metrics['Precision']:<6} {metrics['Recall']:<6} {metrics['F1']:<6}\")\n",
    "    \n",
    "    # overall metrics\n",
    "    total_tp = sum(metrics['TP'] for metrics in results.values())\n",
    "    total_fp = sum(metrics['FP'] for metrics in results.values())\n",
    "    total_fn = sum(metrics['FN'] for metrics in results.values())\n",
    "    overall_precision = total_tp / (total_tp + total_fp) if total_tp + total_fp > 0 else 0\n",
    "    overall_recall = total_tp / (total_tp + total_fn) if total_tp + total_fn > 0 else 0\n",
    "    overall_f1 = 2 * overall_precision * overall_recall / (overall_precision + overall_recall) if overall_precision + overall_recall > 0 else 0\n",
    "    overall_gold_count = sum(metrics['Gold Count'] for metrics in results.values())\n",
    "    overall_pred_count = sum(metrics['Pred Count'] for metrics in results.values())\n",
    "    print(\"-\" * 65)\n",
    "    print(f\"{'Overall':<15} {overall_gold_count:<6} {overall_pred_count:<6} {total_tp:<4} {total_fp:<4} {total_fn:<4} {round(overall_precision, 4):<6} {round(overall_recall, 4):<6} {round(overall_f1, 4):<6}\")\n"
   ]
  },
  {
   "cell_type": "code",
   "execution_count": 20,
   "metadata": {},
   "outputs": [
    {
     "name": "stdout",
     "output_type": "stream",
     "text": [
      "Event Type      Gold   Pred   TP   FP   FN   Prec   Rec    F1    \n",
      "-----------------------------------------------------------------\n",
      "Infect          21     27     15   12   6    0.5556 0.7143 0.625 \n",
      "Death           8      13     8    5    0    0.6154 1.0    0.7619\n",
      "Cure            16     12     9    3    7    0.75   0.5625 0.6429\n",
      "Symptom         13     13     6    7    7    0.4615 0.4615 0.4615\n",
      "Spread          13     16     9    7    4    0.5625 0.6923 0.6207\n",
      "Prevent         12     31     7    24   5    0.2258 0.5833 0.3256\n",
      "Control         30     29     12   17   18   0.4138 0.4    0.4068\n",
      "-----------------------------------------------------------------\n",
      "Overall         113    141    66   75   47   0.4681 0.5841 0.5197\n"
     ]
    }
   ],
   "source": [
    "results = evaluate_trigger_by_type(trigger_word_gold, trigger_word_pred)\n",
    "print_trigger_eval_table(results)"
   ]
  },
  {
   "cell_type": "code",
   "execution_count": 21,
   "metadata": {},
   "outputs": [],
   "source": [
    "gold_args_by_type = defaultdict(list)\n",
    "pred_args_by_type = defaultdict(list)\n",
    "\n",
    "for gold_item, pred_item in zip(gold_transformed, pred_transformed):\n",
    "    assert gold_item['id'] == pred_item['id']\n",
    "    \n",
    "    gold_events = gold_item.get('events', [])\n",
    "    pred_events = pred_item.get('events', [])\n",
    "    \n",
    "    for g_event in gold_events:\n",
    "        gold_args_by_type[g_event['type']].append(g_event['arguments'])\n",
    "    \n",
    "    for p_event in pred_events:\n",
    "        pred_args_by_type[p_event['type']].append(p_event['arguments'])"
   ]
  },
  {
   "cell_type": "code",
   "execution_count": 22,
   "metadata": {},
   "outputs": [
    {
     "data": {
      "text/plain": [
       "dict_keys(['Infect', 'Control', 'Death', 'Spread', 'Prevent', 'Symptom', 'Cure'])"
      ]
     },
     "execution_count": 22,
     "metadata": {},
     "output_type": "execute_result"
    }
   ],
   "source": [
    "gold_args_by_type.keys()"
   ]
  },
  {
   "cell_type": "code",
   "execution_count": 23,
   "metadata": {},
   "outputs": [],
   "source": [
    "def evaluate_arguments(gold_args_list, pred_args_list):\n",
    "    role_counts = defaultdict(lambda: {\"tp\": 0, \"fp\": 0, \"fn\": 0})\n",
    "    \n",
    "    for g_args, p_args in zip(gold_args_list, pred_args_list):\n",
    "        gold_roles = set(arg['role'] for arg in g_args)\n",
    "        pred_roles = set(arg['role'] for arg in p_args)\n",
    "        \n",
    "        for role in gold_roles & pred_roles:\n",
    "            role_counts[role][\"tp\"] += 1\n",
    "        for role in gold_roles - pred_roles:\n",
    "            role_counts[role][\"fn\"] += 1\n",
    "        for role in pred_roles - gold_roles:\n",
    "            role_counts[role][\"fp\"] += 1\n",
    "    \n",
    "    return role_counts"
   ]
  },
  {
   "cell_type": "code",
   "execution_count": 33,
   "metadata": {},
   "outputs": [],
   "source": [
    "def calculate_prf(role_counts):\n",
    "    tp = role_counts[\"tp\"]\n",
    "    fp = role_counts[\"fp\"]\n",
    "    fn = role_counts[\"fn\"]\n",
    "    \n",
    "    precision = tp / (tp + fp) if tp + fp > 0 else 0\n",
    "    recall = tp / (tp + fn) if tp + fn > 0 else 0\n",
    "    f1 = 2 * precision * recall / (precision + recall) if precision + recall > 0 else 0\n",
    "    \n",
    "    metrics = {\n",
    "        \"precision\": round(precision, 4),\n",
    "        \"recall\": round(recall, 4),\n",
    "        \"f1\": round(f1, 4),\n",
    "        \"tp\": tp,\n",
    "        \"fp\": fp,\n",
    "        \"fn\": fn\n",
    "    }\n",
    "    \n",
    "    return metrics"
   ]
  },
  {
   "cell_type": "code",
   "execution_count": 37,
   "metadata": {},
   "outputs": [
    {
     "name": "stdout",
     "output_type": "stream",
     "text": [
      "\n",
      "Event Type: Infect\n",
      "+--------------------+------+------+------+-------------+----------+--------+\n",
      "| Role               |   TP |   FP |   FN |   Precision |   Recall |     F1 |\n",
      "+====================+======+======+======+=============+==========+========+\n",
      "| infected           |   13 |    3 |    5 |      0.8125 |   0.7222 | 0.7647 |\n",
      "+--------------------+------+------+------+-------------+----------+--------+\n",
      "| disease            |   18 |    2 |    1 |      0.9    |   0.9474 | 0.9231 |\n",
      "+--------------------+------+------+------+-------------+----------+--------+\n",
      "| place              |    3 |    4 |    3 |      0.4286 |   0.5    | 0.4615 |\n",
      "+--------------------+------+------+------+-------------+----------+--------+\n",
      "| information-source |    1 |    0 |    1 |      1      |   0.5    | 0.6667 |\n",
      "+--------------------+------+------+------+-------------+----------+--------+\n",
      "| value              |    0 |    4 |    2 |      0      |   0      | 0      |\n",
      "+--------------------+------+------+------+-------------+----------+--------+\n",
      "| time               |    0 |    3 |    2 |      0      |   0      | 0      |\n",
      "+--------------------+------+------+------+-------------+----------+--------+\n",
      "| means              |    0 |    1 |    0 |      0      |   0      | 0      |\n",
      "+--------------------+------+------+------+-------------+----------+--------+\n",
      "\n",
      "Event Type: Control\n",
      "+--------------------+------+------+------+-------------+----------+--------+\n",
      "| Role               |   TP |   FP |   FN |   Precision |   Recall |     F1 |\n",
      "+====================+======+======+======+=============+==========+========+\n",
      "| effectiveness      |    3 |    6 |    5 |      0.3333 |   0.375  | 0.3529 |\n",
      "+--------------------+------+------+------+-------------+----------+--------+\n",
      "| means              |   22 |    5 |    1 |      0.8148 |   0.9565 | 0.88   |\n",
      "+--------------------+------+------+------+-------------+----------+--------+\n",
      "| disease            |   20 |    5 |    4 |      0.8    |   0.8333 | 0.8163 |\n",
      "+--------------------+------+------+------+-------------+----------+--------+\n",
      "| subject            |    2 |    4 |    7 |      0.3333 |   0.2222 | 0.2667 |\n",
      "+--------------------+------+------+------+-------------+----------+--------+\n",
      "| place              |    0 |    2 |    3 |      0      |   0      | 0      |\n",
      "+--------------------+------+------+------+-------------+----------+--------+\n",
      "| authority          |    0 |    4 |    5 |      0      |   0      | 0      |\n",
      "+--------------------+------+------+------+-------------+----------+--------+\n",
      "| time               |    0 |    2 |    0 |      0      |   0      | 0      |\n",
      "+--------------------+------+------+------+-------------+----------+--------+\n",
      "| agent              |    0 |    1 |    0 |      0      |   0      | 0      |\n",
      "+--------------------+------+------+------+-------------+----------+--------+\n",
      "| information-source |    0 |    0 |    1 |      0      |   0      | 0      |\n",
      "+--------------------+------+------+------+-------------+----------+--------+\n",
      "\n",
      "Event Type: Death\n",
      "+--------------------+------+------+------+-------------+----------+--------+\n",
      "| Role               |   TP |   FP |   FN |   Precision |   Recall |     F1 |\n",
      "+====================+======+======+======+=============+==========+========+\n",
      "| disease            |    8 |    0 |    0 |      1      |     1    | 1      |\n",
      "+--------------------+------+------+------+-------------+----------+--------+\n",
      "| trend              |    2 |    1 |    0 |      0.6667 |     1    | 0.8    |\n",
      "+--------------------+------+------+------+-------------+----------+--------+\n",
      "| place              |    2 |    0 |    2 |      1      |     0.5  | 0.6667 |\n",
      "+--------------------+------+------+------+-------------+----------+--------+\n",
      "| value              |    3 |    1 |    1 |      0.75   |     0.75 | 0.75   |\n",
      "+--------------------+------+------+------+-------------+----------+--------+\n",
      "| dead               |    2 |    1 |    0 |      0.6667 |     1    | 0.8    |\n",
      "+--------------------+------+------+------+-------------+----------+--------+\n",
      "| time               |    0 |    1 |    1 |      0      |     0    | 0      |\n",
      "+--------------------+------+------+------+-------------+----------+--------+\n",
      "| information-source |    0 |    1 |    0 |      0      |     0    | 0      |\n",
      "+--------------------+------+------+------+-------------+----------+--------+\n",
      "| means              |    0 |    1 |    0 |      0      |     0    | 0      |\n",
      "+--------------------+------+------+------+-------------+----------+--------+\n",
      "\n",
      "Event Type: Spread\n",
      "+--------------------+------+------+------+-------------+----------+--------+\n",
      "| Role               |   TP |   FP |   FN |   Precision |   Recall |     F1 |\n",
      "+====================+======+======+======+=============+==========+========+\n",
      "| population         |    2 |    3 |    1 |      0.4    |   0.6667 | 0.5    |\n",
      "+--------------------+------+------+------+-------------+----------+--------+\n",
      "| value              |    1 |    1 |    3 |      0.5    |   0.25   | 0.3333 |\n",
      "+--------------------+------+------+------+-------------+----------+--------+\n",
      "| disease            |   11 |    0 |    2 |      1      |   0.8462 | 0.9167 |\n",
      "+--------------------+------+------+------+-------------+----------+--------+\n",
      "| trend              |    3 |    4 |    0 |      0.4286 |   1      | 0.6    |\n",
      "+--------------------+------+------+------+-------------+----------+--------+\n",
      "| information-source |    0 |    0 |    1 |      0      |   0      | 0      |\n",
      "+--------------------+------+------+------+-------------+----------+--------+\n",
      "| place              |    1 |    2 |    5 |      0.3333 |   0.1667 | 0.2222 |\n",
      "+--------------------+------+------+------+-------------+----------+--------+\n",
      "| time               |    0 |    2 |    0 |      0      |   0      | 0      |\n",
      "+--------------------+------+------+------+-------------+----------+--------+\n",
      "| means              |    0 |    2 |    0 |      0      |   0      | 0      |\n",
      "+--------------------+------+------+------+-------------+----------+--------+\n",
      "\n",
      "Event Type: Prevent\n",
      "+---------------+------+------+------+-------------+----------+--------+\n",
      "| Role          |   TP |   FP |   FN |   Precision |   Recall |     F1 |\n",
      "+===============+======+======+======+=============+==========+========+\n",
      "| means         |   11 |    1 |    0 |      0.9167 |      1   | 0.9565 |\n",
      "+---------------+------+------+------+-------------+----------+--------+\n",
      "| disease       |    4 |    2 |    6 |      0.6667 |      0.4 | 0.5    |\n",
      "+---------------+------+------+------+-------------+----------+--------+\n",
      "| effectiveness |    0 |    3 |    1 |      0      |      0   | 0      |\n",
      "+---------------+------+------+------+-------------+----------+--------+\n",
      "| target        |    1 |    5 |    1 |      0.1667 |      0.5 | 0.25   |\n",
      "+---------------+------+------+------+-------------+----------+--------+\n",
      "| agent         |    2 |    2 |    2 |      0.5    |      0.5 | 0.5    |\n",
      "+---------------+------+------+------+-------------+----------+--------+\n",
      "| time          |    0 |    1 |    0 |      0      |      0   | 0      |\n",
      "+---------------+------+------+------+-------------+----------+--------+\n",
      "\n",
      "Event Type: Symptom\n",
      "+--------------------+------+------+------+-------------+----------+--------+\n",
      "| Role               |   TP |   FP |   FN |   Precision |   Recall |     F1 |\n",
      "+====================+======+======+======+=============+==========+========+\n",
      "| disease            |    8 |    2 |    2 |      0.8    |   0.8    | 0.8    |\n",
      "+--------------------+------+------+------+-------------+----------+--------+\n",
      "| person             |    5 |    4 |    4 |      0.5556 |   0.5556 | 0.5556 |\n",
      "+--------------------+------+------+------+-------------+----------+--------+\n",
      "| symptom            |    7 |    3 |    2 |      0.7    |   0.7778 | 0.7368 |\n",
      "+--------------------+------+------+------+-------------+----------+--------+\n",
      "| duration           |    1 |    1 |    0 |      0.5    |   1      | 0.6667 |\n",
      "+--------------------+------+------+------+-------------+----------+--------+\n",
      "| information-source |    0 |    0 |    2 |      0      |   0      | 0      |\n",
      "+--------------------+------+------+------+-------------+----------+--------+\n",
      "| time               |    1 |    1 |    2 |      0.5    |   0.3333 | 0.4    |\n",
      "+--------------------+------+------+------+-------------+----------+--------+\n",
      "| place              |    0 |    2 |    2 |      0      |   0      | 0      |\n",
      "+--------------------+------+------+------+-------------+----------+--------+\n",
      "| value              |    0 |    1 |    0 |      0      |   0      | 0      |\n",
      "+--------------------+------+------+------+-------------+----------+--------+\n",
      "\n",
      "Event Type: Cure\n",
      "+--------------------+------+------+------+-------------+----------+--------+\n",
      "| Role               |   TP |   FP |   FN |   Precision |   Recall |     F1 |\n",
      "+====================+======+======+======+=============+==========+========+\n",
      "| place              |    3 |    2 |    2 |      0.6    |   0.6    | 0.6    |\n",
      "+--------------------+------+------+------+-------------+----------+--------+\n",
      "| value              |    1 |    1 |    2 |      0.5    |   0.3333 | 0.4    |\n",
      "+--------------------+------+------+------+-------------+----------+--------+\n",
      "| cured              |    6 |    3 |    2 |      0.6667 |   0.75   | 0.7059 |\n",
      "+--------------------+------+------+------+-------------+----------+--------+\n",
      "| disease            |   12 |    0 |    0 |      1      |   1      | 1      |\n",
      "+--------------------+------+------+------+-------------+----------+--------+\n",
      "| information-source |    1 |    4 |    0 |      0.2    |   1      | 0.3333 |\n",
      "+--------------------+------+------+------+-------------+----------+--------+\n",
      "| effectiveness      |    1 |    2 |    2 |      0.3333 |   0.3333 | 0.3333 |\n",
      "+--------------------+------+------+------+-------------+----------+--------+\n",
      "| facility           |    0 |    0 |    6 |      0      |   0      | 0      |\n",
      "+--------------------+------+------+------+-------------+----------+--------+\n",
      "| means              |    3 |    5 |    1 |      0.375  |   0.75   | 0.5    |\n",
      "+--------------------+------+------+------+-------------+----------+--------+\n",
      "| time               |    0 |    1 |    0 |      0      |   0      | 0      |\n",
      "+--------------------+------+------+------+-------------+----------+--------+\n",
      "| duration           |    0 |    1 |    1 |      0      |   0      | 0      |\n",
      "+--------------------+------+------+------+-------------+----------+--------+\n"
     ]
    }
   ],
   "source": [
    "from tabulate import tabulate\n",
    "\n",
    "for event_type in gold_args_by_type:\n",
    "    gold = gold_args_by_type[event_type]\n",
    "    pred = pred_args_by_type.get(event_type, [])\n",
    "    role_scores = evaluate_arguments(gold, pred)\n",
    "    \n",
    "    results_table = []\n",
    "    for role, stats in role_scores.items():\n",
    "        res = calculate_prf(stats)\n",
    "        results_table.append([\n",
    "            role,\n",
    "            stats['tp'],\n",
    "            stats['fp'],\n",
    "            stats['fn'],\n",
    "            res['precision'],\n",
    "            res['recall'],\n",
    "            res['f1']\n",
    "        ])\n",
    "    \n",
    "    print(f\"\\nEvent Type: {event_type}\")\n",
    "    print(tabulate(results_table, headers=[\"Role\", \"TP\", \"FP\", \"FN\", \"Precision\", \"Recall\", \"F1\"], tablefmt=\"grid\"))"
   ]
  },
  {
   "cell_type": "code",
   "execution_count": null,
   "metadata": {},
   "outputs": [],
   "source": []
  }
 ],
 "metadata": {
  "kernelspec": {
   "display_name": "ee",
   "language": "python",
   "name": "python3"
  },
  "language_info": {
   "codemirror_mode": {
    "name": "ipython",
    "version": 3
   },
   "file_extension": ".py",
   "mimetype": "text/x-python",
   "name": "python",
   "nbconvert_exporter": "python",
   "pygments_lexer": "ipython3",
   "version": "3.10.18"
  }
 },
 "nbformat": 4,
 "nbformat_minor": 2
}
