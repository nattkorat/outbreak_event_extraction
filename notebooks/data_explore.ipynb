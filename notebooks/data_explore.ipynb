{
 "cells": [
  {
   "cell_type": "markdown",
   "metadata": {},
   "source": [
    "# Counter Token of Articles"
   ]
  },
  {
   "cell_type": "code",
   "execution_count": 1,
   "metadata": {},
   "outputs": [
    {
     "name": "stdout",
     "output_type": "stream",
     "text": [
      "/home/natt/Documents/internship_project/outbreak_event_extraction\n"
     ]
    }
   ],
   "source": [
    "# change to roodirectory of the repository\n",
    "%cd .."
   ]
  },
  {
   "cell_type": "code",
   "execution_count": 13,
   "metadata": {},
   "outputs": [],
   "source": [
    "from utils import data_tokenizing"
   ]
  },
  {
   "cell_type": "code",
   "execution_count": 14,
   "metadata": {},
   "outputs": [],
   "source": [
    "model = \"google/gemma-3-1b-it\"\n",
    "tokenizer = data_tokenizing.get_tokenizer(model)"
   ]
  },
  {
   "cell_type": "code",
   "execution_count": 15,
   "metadata": {},
   "outputs": [
    {
     "name": "stdout",
     "output_type": "stream",
     "text": [
      "Total files: 16\n"
     ]
    }
   ],
   "source": [
    "import os\n",
    "# get data for count tokens\n",
    "data_paths = []\n",
    "\n",
    "main_dir = \"datasets/29k_cleaned_thai_20250508_v2\"\n",
    "for root, dirs, files in os.walk(main_dir):\n",
    "    for file in files:\n",
    "        if file.endswith(\".json\"):\n",
    "            data_paths.append(os.path.join(root, file))\n",
    "\n",
    "print(f\"Total files: {len(data_paths)}\")"
   ]
  },
  {
   "cell_type": "code",
   "execution_count": 16,
   "metadata": {},
   "outputs": [
    {
     "data": {
      "text/plain": [
       "'datasets/29k_cleaned_thai_20250508_v2/thecoverage.info/โรคประจำถิ่น.json'"
      ]
     },
     "execution_count": 16,
     "metadata": {},
     "output_type": "execute_result"
    }
   ],
   "source": [
    "data_paths[0]"
   ]
  },
  {
   "cell_type": "code",
   "execution_count": 36,
   "metadata": {},
   "outputs": [
    {
     "name": "stderr",
     "output_type": "stream",
     "text": [
      "100%|██████████| 16/16 [00:33<00:00,  2.12s/it]\n"
     ]
    }
   ],
   "source": [
    "import json\n",
    "from tqdm import tqdm\n",
    "\n",
    "processed_data = []\n",
    "\n",
    "for path in tqdm(data_paths):\n",
    "    try:\n",
    "        with open(path, 'r', encoding='utf-8') as f:\n",
    "            data = json.load(f)\n",
    "        for item in data:\n",
    "            text = item['content']\n",
    "            n_tokens = data_tokenizing.count_length(tokenizer, text)\n",
    "            processed_data.append({\n",
    "                'path': path,\n",
    "                'date': item.get('date', None),\n",
    "                'title': item.get('title', None),\n",
    "                'source': item.get('source', None),\n",
    "                'site_name': item.get('site_name', None),\n",
    "                'content': text,\n",
    "                'token_count': n_tokens\n",
    "            })\n",
    "    except Exception as e:\n",
    "        print(f\"Error processing file: {path} for reason: {e}\")"
   ]
  },
  {
   "cell_type": "code",
   "execution_count": 37,
   "metadata": {},
   "outputs": [
    {
     "data": {
      "text/plain": [
       "{'path': 'datasets/29k_cleaned_thai_20250508_v2/thecoverage.info/โรคประจำถิ่น.json',\n",
       " 'date': 'Unknown Date',\n",
       " 'title': 'เปิดไทม์ไลน์ แผน 4 ระยะ ปรับโควิด-19 สู่โรคประจำถิ่น | TheCoverage.info',\n",
       " 'source': 'https://thecoverage.info/news/content/3262',\n",
       " 'site_name': 'เปิดไทม์ไลน์ แผน 4 ระยะ ปรับโควิด-19 สู่โรคประจำถิ่น | TheCoverage.info',\n",
       " 'content': 'เปิดไทม์ไลน์ แผน 4 ระยะ ปรับโควิด19 สู่โรคประจำถิ่น The Coverage Infographic 15 มีนาคม 2565 กระทรวงสาธารณสุข สธ. กำหนดแผน 4 ระยะ 4 เดือน หรือเรียกว่า 3 บวก 1 เปลี่ยนจากการระบาด Pandemic เป็นระยะเข้าสู่โรคประจำถิ่น Endemic approach ระยะที่ 1 Combatting 12 มี.ค. ต้น เม.ย. 2565 เป็นระยะต่อสู้ ต้องกดตัวเลขผู้ติดเชื้อไม่ให้สูงกว่านี้ เพื่อลดการระบาด ลดความรุนแรงลง โดยจะมีมาตรการต่างๆ ออกไป ระยะที่ 2 Plateau เม.ย. พ.ค. 2565 คงระดับผู้ติดเชื้อไม่ให้สูงขึ้น ให้เป็นระนาบจนลดลงเรื่อย ระยะที่ 3 Declining ปลาย พ.ค. 30 มิ.ย. 2565 ลดจำนวนผู้ติดเชื้อลงให้เหลือ 1,000 2,000พันราย ระยะ 4 บวก 1 Post pandemic 1 ก.ค 25.65 เป็นต้นไป ออกจากโรคระบาดเข้าสู่โรคประจำถิ่น Infographic โควิด19 โรคประจำถิ่น 439 views',\n",
       " 'token_count': 273}"
      ]
     },
     "execution_count": 37,
     "metadata": {},
     "output_type": "execute_result"
    }
   ],
   "source": [
    "processed_data[0]"
   ]
  },
  {
   "cell_type": "code",
   "execution_count": 39,
   "metadata": {},
   "outputs": [
    {
     "data": {
      "text/html": [
       "<div>\n",
       "<style scoped>\n",
       "    .dataframe tbody tr th:only-of-type {\n",
       "        vertical-align: middle;\n",
       "    }\n",
       "\n",
       "    .dataframe tbody tr th {\n",
       "        vertical-align: top;\n",
       "    }\n",
       "\n",
       "    .dataframe thead th {\n",
       "        text-align: right;\n",
       "    }\n",
       "</style>\n",
       "<table border=\"1\" class=\"dataframe\">\n",
       "  <thead>\n",
       "    <tr style=\"text-align: right;\">\n",
       "      <th></th>\n",
       "      <th>path</th>\n",
       "      <th>date</th>\n",
       "      <th>title</th>\n",
       "      <th>source</th>\n",
       "      <th>site_name</th>\n",
       "      <th>content</th>\n",
       "      <th>token_count</th>\n",
       "    </tr>\n",
       "  </thead>\n",
       "  <tbody>\n",
       "    <tr>\n",
       "      <th>0</th>\n",
       "      <td>datasets/29k_cleaned_thai_20250508_v2/thecover...</td>\n",
       "      <td>Unknown Date</td>\n",
       "      <td>เปิดไทม์ไลน์ แผน 4 ระยะ ปรับโควิด-19 สู่โรคประ...</td>\n",
       "      <td>https://thecoverage.info/news/content/3262</td>\n",
       "      <td>เปิดไทม์ไลน์ แผน 4 ระยะ ปรับโควิด-19 สู่โรคประ...</td>\n",
       "      <td>เปิดไทม์ไลน์ แผน 4 ระยะ ปรับโควิด19 สู่โรคประจ...</td>\n",
       "      <td>273</td>\n",
       "    </tr>\n",
       "    <tr>\n",
       "      <th>1</th>\n",
       "      <td>datasets/29k_cleaned_thai_20250508_v2/thecover...</td>\n",
       "      <td>Unknown Date</td>\n",
       "      <td>คาดโควิดเพิ่มขึ้นใน 10 สัปดาห์นี้ ตัวเลขผู้ป่ว...</td>\n",
       "      <td>https://thecoverage.info/news/content/3707</td>\n",
       "      <td>คาดโควิดเพิ่มขึ้นใน 10 สัปดาห์นี้ ตัวเลขผู้ป่ว...</td>\n",
       "      <td>คาดโควิดเพิ่มขึ้นใน 10 สัปดาห์นี้ ตัวเลขผู้ป่ว...</td>\n",
       "      <td>885</td>\n",
       "    </tr>\n",
       "    <tr>\n",
       "      <th>2</th>\n",
       "      <td>datasets/29k_cleaned_thai_20250508_v2/thecover...</td>\n",
       "      <td>Unknown Date</td>\n",
       "      <td>‘ภูเก็ต’ เสนอตัวนำร่องจังหวัดแรก ประกาศโควิดเป...</td>\n",
       "      <td>https://thecoverage.info/news/content/3153</td>\n",
       "      <td>‘ภูเก็ต’ เสนอตัวนำร่องจังหวัดแรก ประกาศโควิดเป...</td>\n",
       "      <td>‘ภูเก็ต’ เสนอตัวนำร่องจังหวัดแรก ประกาศโควิดเป...</td>\n",
       "      <td>568</td>\n",
       "    </tr>\n",
       "    <tr>\n",
       "      <th>3</th>\n",
       "      <td>datasets/29k_cleaned_thai_20250508_v2/thecover...</td>\n",
       "      <td>Unknown Date</td>\n",
       "      <td>คกก.โรคติดต่อแห่งชาติ เคาะเกณฑ์เตรียมความพร้อม...</td>\n",
       "      <td>https://thecoverage.info/news/content/3051</td>\n",
       "      <td>คกก.โรคติดต่อแห่งชาติ เคาะเกณฑ์เตรียมความพร้อม...</td>\n",
       "      <td>คกก.โรคติดต่อแห่งชาติ เคาะเกณฑ์เตรียมความพร้อม...</td>\n",
       "      <td>1018</td>\n",
       "    </tr>\n",
       "    <tr>\n",
       "      <th>4</th>\n",
       "      <td>datasets/29k_cleaned_thai_20250508_v2/thecover...</td>\n",
       "      <td>Unknown Date</td>\n",
       "      <td>‘ถอดหน้ากากอนามัย’ ได้หรือไม่ ต้องรอ ศบค. ชี้ข...</td>\n",
       "      <td>https://thecoverage.info/news/content/3585</td>\n",
       "      <td>‘ถอดหน้ากากอนามัย’ ได้หรือไม่ ต้องรอ ศบค. ชี้ข...</td>\n",
       "      <td>‘ถอดหน้ากากอนามัย’ ได้หรือไม่ ต้องรอ ศบค. ชี้ข...</td>\n",
       "      <td>605</td>\n",
       "    </tr>\n",
       "  </tbody>\n",
       "</table>\n",
       "</div>"
      ],
      "text/plain": [
       "                                                path          date  \\\n",
       "0  datasets/29k_cleaned_thai_20250508_v2/thecover...  Unknown Date   \n",
       "1  datasets/29k_cleaned_thai_20250508_v2/thecover...  Unknown Date   \n",
       "2  datasets/29k_cleaned_thai_20250508_v2/thecover...  Unknown Date   \n",
       "3  datasets/29k_cleaned_thai_20250508_v2/thecover...  Unknown Date   \n",
       "4  datasets/29k_cleaned_thai_20250508_v2/thecover...  Unknown Date   \n",
       "\n",
       "                                               title  \\\n",
       "0  เปิดไทม์ไลน์ แผน 4 ระยะ ปรับโควิด-19 สู่โรคประ...   \n",
       "1  คาดโควิดเพิ่มขึ้นใน 10 สัปดาห์นี้ ตัวเลขผู้ป่ว...   \n",
       "2  ‘ภูเก็ต’ เสนอตัวนำร่องจังหวัดแรก ประกาศโควิดเป...   \n",
       "3  คกก.โรคติดต่อแห่งชาติ เคาะเกณฑ์เตรียมความพร้อม...   \n",
       "4  ‘ถอดหน้ากากอนามัย’ ได้หรือไม่ ต้องรอ ศบค. ชี้ข...   \n",
       "\n",
       "                                       source  \\\n",
       "0  https://thecoverage.info/news/content/3262   \n",
       "1  https://thecoverage.info/news/content/3707   \n",
       "2  https://thecoverage.info/news/content/3153   \n",
       "3  https://thecoverage.info/news/content/3051   \n",
       "4  https://thecoverage.info/news/content/3585   \n",
       "\n",
       "                                           site_name  \\\n",
       "0  เปิดไทม์ไลน์ แผน 4 ระยะ ปรับโควิด-19 สู่โรคประ...   \n",
       "1  คาดโควิดเพิ่มขึ้นใน 10 สัปดาห์นี้ ตัวเลขผู้ป่ว...   \n",
       "2  ‘ภูเก็ต’ เสนอตัวนำร่องจังหวัดแรก ประกาศโควิดเป...   \n",
       "3  คกก.โรคติดต่อแห่งชาติ เคาะเกณฑ์เตรียมความพร้อม...   \n",
       "4  ‘ถอดหน้ากากอนามัย’ ได้หรือไม่ ต้องรอ ศบค. ชี้ข...   \n",
       "\n",
       "                                             content  token_count  \n",
       "0  เปิดไทม์ไลน์ แผน 4 ระยะ ปรับโควิด19 สู่โรคประจ...          273  \n",
       "1  คาดโควิดเพิ่มขึ้นใน 10 สัปดาห์นี้ ตัวเลขผู้ป่ว...          885  \n",
       "2  ‘ภูเก็ต’ เสนอตัวนำร่องจังหวัดแรก ประกาศโควิดเป...          568  \n",
       "3  คกก.โรคติดต่อแห่งชาติ เคาะเกณฑ์เตรียมความพร้อม...         1018  \n",
       "4  ‘ถอดหน้ากากอนามัย’ ได้หรือไม่ ต้องรอ ศบค. ชี้ข...          605  "
      ]
     },
     "execution_count": 39,
     "metadata": {},
     "output_type": "execute_result"
    }
   ],
   "source": [
    "import pandas as pd\n",
    "\n",
    "df = pd.DataFrame(processed_data)\n",
    "df.head()"
   ]
  },
  {
   "cell_type": "code",
   "execution_count": 40,
   "metadata": {},
   "outputs": [
    {
     "name": "stdout",
     "output_type": "stream",
     "text": [
      "Total tokens: 26019492\n"
     ]
    }
   ],
   "source": [
    "# total tokens\n",
    "total_tokens = df['token_count'].sum()\n",
    "print(f\"Total tokens: {total_tokens}\")"
   ]
  },
  {
   "cell_type": "code",
   "execution_count": 42,
   "metadata": {},
   "outputs": [
    {
     "data": {
      "text/html": [
       "<div>\n",
       "<style scoped>\n",
       "    .dataframe tbody tr th:only-of-type {\n",
       "        vertical-align: middle;\n",
       "    }\n",
       "\n",
       "    .dataframe tbody tr th {\n",
       "        vertical-align: top;\n",
       "    }\n",
       "\n",
       "    .dataframe thead th {\n",
       "        text-align: right;\n",
       "    }\n",
       "</style>\n",
       "<table border=\"1\" class=\"dataframe\">\n",
       "  <thead>\n",
       "    <tr style=\"text-align: right;\">\n",
       "      <th></th>\n",
       "      <th>path</th>\n",
       "      <th>token_count</th>\n",
       "    </tr>\n",
       "  </thead>\n",
       "  <tbody>\n",
       "    <tr>\n",
       "      <th>2</th>\n",
       "      <td>datasets/29k_cleaned_thai_20250508_v2/hfocus.o...</td>\n",
       "      <td>20844541</td>\n",
       "    </tr>\n",
       "    <tr>\n",
       "      <th>15</th>\n",
       "      <td>datasets/29k_cleaned_thai_20250508_v2/warning....</td>\n",
       "      <td>3475910</td>\n",
       "    </tr>\n",
       "    <tr>\n",
       "      <th>1</th>\n",
       "      <td>datasets/29k_cleaned_thai_20250508_v2/bangkokb...</td>\n",
       "      <td>570715</td>\n",
       "    </tr>\n",
       "    <tr>\n",
       "      <th>4</th>\n",
       "      <td>datasets/29k_cleaned_thai_20250508_v2/hfocus.o...</td>\n",
       "      <td>231710</td>\n",
       "    </tr>\n",
       "    <tr>\n",
       "      <th>5</th>\n",
       "      <td>datasets/29k_cleaned_thai_20250508_v2/khaosod....</td>\n",
       "      <td>228104</td>\n",
       "    </tr>\n",
       "    <tr>\n",
       "      <th>3</th>\n",
       "      <td>datasets/29k_cleaned_thai_20250508_v2/hfocus.o...</td>\n",
       "      <td>112392</td>\n",
       "    </tr>\n",
       "    <tr>\n",
       "      <th>11</th>\n",
       "      <td>datasets/29k_cleaned_thai_20250508_v2/thansett...</td>\n",
       "      <td>108511</td>\n",
       "    </tr>\n",
       "    <tr>\n",
       "      <th>6</th>\n",
       "      <td>datasets/29k_cleaned_thai_20250508_v2/matichon...</td>\n",
       "      <td>97484</td>\n",
       "    </tr>\n",
       "    <tr>\n",
       "      <th>9</th>\n",
       "      <td>datasets/29k_cleaned_thai_20250508_v2/thaiheal...</td>\n",
       "      <td>88188</td>\n",
       "    </tr>\n",
       "    <tr>\n",
       "      <th>7</th>\n",
       "      <td>datasets/29k_cleaned_thai_20250508_v2/prachach...</td>\n",
       "      <td>68688</td>\n",
       "    </tr>\n",
       "    <tr>\n",
       "      <th>10</th>\n",
       "      <td>datasets/29k_cleaned_thai_20250508_v2/thaiheal...</td>\n",
       "      <td>44697</td>\n",
       "    </tr>\n",
       "    <tr>\n",
       "      <th>12</th>\n",
       "      <td>datasets/29k_cleaned_thai_20250508_v2/thecover...</td>\n",
       "      <td>44050</td>\n",
       "    </tr>\n",
       "    <tr>\n",
       "      <th>8</th>\n",
       "      <td>datasets/29k_cleaned_thai_20250508_v2/springne...</td>\n",
       "      <td>41415</td>\n",
       "    </tr>\n",
       "    <tr>\n",
       "      <th>0</th>\n",
       "      <td>datasets/29k_cleaned_thai_20250508_v2/amarintv...</td>\n",
       "      <td>39069</td>\n",
       "    </tr>\n",
       "    <tr>\n",
       "      <th>13</th>\n",
       "      <td>datasets/29k_cleaned_thai_20250508_v2/thecover...</td>\n",
       "      <td>21018</td>\n",
       "    </tr>\n",
       "    <tr>\n",
       "      <th>14</th>\n",
       "      <td>datasets/29k_cleaned_thai_20250508_v2/thecover...</td>\n",
       "      <td>3000</td>\n",
       "    </tr>\n",
       "  </tbody>\n",
       "</table>\n",
       "</div>"
      ],
      "text/plain": [
       "                                                 path  token_count\n",
       "2   datasets/29k_cleaned_thai_20250508_v2/hfocus.o...     20844541\n",
       "15  datasets/29k_cleaned_thai_20250508_v2/warning....      3475910\n",
       "1   datasets/29k_cleaned_thai_20250508_v2/bangkokb...       570715\n",
       "4   datasets/29k_cleaned_thai_20250508_v2/hfocus.o...       231710\n",
       "5   datasets/29k_cleaned_thai_20250508_v2/khaosod....       228104\n",
       "3   datasets/29k_cleaned_thai_20250508_v2/hfocus.o...       112392\n",
       "11  datasets/29k_cleaned_thai_20250508_v2/thansett...       108511\n",
       "6   datasets/29k_cleaned_thai_20250508_v2/matichon...        97484\n",
       "9   datasets/29k_cleaned_thai_20250508_v2/thaiheal...        88188\n",
       "7   datasets/29k_cleaned_thai_20250508_v2/prachach...        68688\n",
       "10  datasets/29k_cleaned_thai_20250508_v2/thaiheal...        44697\n",
       "12  datasets/29k_cleaned_thai_20250508_v2/thecover...        44050\n",
       "8   datasets/29k_cleaned_thai_20250508_v2/springne...        41415\n",
       "0   datasets/29k_cleaned_thai_20250508_v2/amarintv...        39069\n",
       "13  datasets/29k_cleaned_thai_20250508_v2/thecover...        21018\n",
       "14  datasets/29k_cleaned_thai_20250508_v2/thecover...         3000"
      ]
     },
     "execution_count": 42,
     "metadata": {},
     "output_type": "execute_result"
    }
   ],
   "source": [
    "# total tokens per file\n",
    "df.groupby('path')['token_count'].sum().reset_index().sort_values(by='token_count', ascending=False)"
   ]
  },
  {
   "cell_type": "code",
   "execution_count": 44,
   "metadata": {},
   "outputs": [],
   "source": [
    "df.to_csv(\"datasets/29k_cleaned_thai_20250508_v2_token_count.csv\", index=False)"
   ]
  }
 ],
 "metadata": {
  "kernelspec": {
   "display_name": "ee",
   "language": "python",
   "name": "python3"
  },
  "language_info": {
   "codemirror_mode": {
    "name": "ipython",
    "version": 3
   },
   "file_extension": ".py",
   "mimetype": "text/x-python",
   "name": "python",
   "nbconvert_exporter": "python",
   "pygments_lexer": "ipython3",
   "version": "3.11.12"
  }
 },
 "nbformat": 4,
 "nbformat_minor": 2
}
