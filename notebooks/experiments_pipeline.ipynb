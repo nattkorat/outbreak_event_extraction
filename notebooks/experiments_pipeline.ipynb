{
 "cells": [
  {
   "cell_type": "markdown",
   "metadata": {},
   "source": [
    "# Experiments the Pipeline with Khmer Dataset"
   ]
  },
  {
   "cell_type": "code",
   "execution_count": 3,
   "metadata": {},
   "outputs": [
    {
     "name": "stdout",
     "output_type": "stream",
     "text": [
      "/home/natt/Documents/internship_project/outbreak_event_extraction\n"
     ]
    }
   ],
   "source": [
    "# change the directory to run from root of the project\n",
    "%cd .."
   ]
  },
  {
   "cell_type": "code",
   "execution_count": 3,
   "metadata": {},
   "outputs": [
    {
     "name": "stderr",
     "output_type": "stream",
     "text": [
      "/opt/homebrew/Caskroom/miniconda/base/envs/ee/lib/python3.10/site-packages/tqdm/auto.py:21: TqdmWarning: IProgress not found. Please update jupyter and ipywidgets. See https://ipywidgets.readthedocs.io/en/stable/user_install.html\n",
      "  from .autonotebook import tqdm as notebook_tqdm\n"
     ]
    }
   ],
   "source": [
    "from datasets import load_dataset"
   ]
  },
  {
   "cell_type": "code",
   "execution_count": 5,
   "metadata": {},
   "outputs": [
    {
     "name": "stderr",
     "output_type": "stream",
     "text": [
      "Generating train split: 100%|██████████| 5140/5140 [00:00<00:00, 80765.45 examples/s]\n",
      "Generating validation split: 100%|██████████| 661/661 [00:00<00:00, 90971.09 examples/s]\n",
      "Generating test split: 100%|██████████| 1543/1543 [00:00<00:00, 125415.40 examples/s]\n"
     ]
    },
    {
     "data": {
      "text/plain": [
       "DatasetDict({\n",
       "    train: Dataset({\n",
       "        features: ['title', 'content', 'label', '__index_level_0__'],\n",
       "        num_rows: 5140\n",
       "    })\n",
       "    validation: Dataset({\n",
       "        features: ['title', 'content', 'label', '__index_level_0__'],\n",
       "        num_rows: 661\n",
       "    })\n",
       "    test: Dataset({\n",
       "        features: ['title', 'content', 'label', '__index_level_0__'],\n",
       "        num_rows: 1543\n",
       "    })\n",
       "})"
      ]
     },
     "execution_count": 5,
     "metadata": {},
     "output_type": "execute_result"
    }
   ],
   "source": [
    "# load the existing dataset (not health related)\n",
    "dataset = load_dataset('nattkorat/raw_khmer_news_dataset')\n",
    "dataset"
   ]
  },
  {
   "cell_type": "code",
   "execution_count": 22,
   "metadata": {},
   "outputs": [
    {
     "data": {
      "text/plain": [
       "['economic', 'entertainment', 'life', 'politic', 'sport', 'technology']"
      ]
     },
     "execution_count": 22,
     "metadata": {},
     "output_type": "execute_result"
    }
   ],
   "source": [
    "label_names = dataset['train'].features['label'].names\n",
    "label_names"
   ]
  },
  {
   "cell_type": "code",
   "execution_count": 20,
   "metadata": {},
   "outputs": [
    {
     "data": {
      "text/html": [
       "<div>\n",
       "<style scoped>\n",
       "    .dataframe tbody tr th:only-of-type {\n",
       "        vertical-align: middle;\n",
       "    }\n",
       "\n",
       "    .dataframe tbody tr th {\n",
       "        vertical-align: top;\n",
       "    }\n",
       "\n",
       "    .dataframe thead th {\n",
       "        text-align: right;\n",
       "    }\n",
       "</style>\n",
       "<table border=\"1\" class=\"dataframe\">\n",
       "  <thead>\n",
       "    <tr style=\"text-align: right;\">\n",
       "      <th></th>\n",
       "      <th>title</th>\n",
       "      <th>content</th>\n",
       "      <th>label</th>\n",
       "      <th>__index_level_0__</th>\n",
       "    </tr>\n",
       "  </thead>\n",
       "  <tbody>\n",
       "    <tr>\n",
       "      <th>0</th>\n",
       "      <td>សម្ដេចតេជោ ព្រមានចាប់ខ្លួន លោក ចាន់ យ៉េត ដែល ព...</td>\n",
       "      <td>ភ្នំពេញ ៖ សម្ដេចតេជោ ហ៊ុន សែន នាយករដ្ឋមន្ដ្រី ...</td>\n",
       "      <td>3</td>\n",
       "      <td>5777</td>\n",
       "    </tr>\n",
       "    <tr>\n",
       "      <th>1</th>\n",
       "      <td>ថៃ​គ្រោង​ពិភាក្សា​នឹង​កម្ពុជា​ លើ​បញ្ហា​ថាមពល</td>\n",
       "      <td>រដ្ឋមន្ត្រីក្រសួង​ថាមពល​ថៃ លោក Sontirat Sonti...</td>\n",
       "      <td>0</td>\n",
       "      <td>7284</td>\n",
       "    </tr>\n",
       "    <tr>\n",
       "      <th>4</th>\n",
       "      <td>កម្ពុជា​ចុះ MoU ជាមួយ​ចិន​ ដើម្បី​បណ្តុះ​ធនធាន...</td>\n",
       "      <td>កម្ពុជា​បាន​ចុះហត្ថលេខា​លើ​អនុស្សរណៈ​យោគយល់​គ...</td>\n",
       "      <td>0</td>\n",
       "      <td>7241</td>\n",
       "    </tr>\n",
       "    <tr>\n",
       "      <th>5</th>\n",
       "      <td>ការនាំចេញ​កៅស៊ូ​របស់​កម្ពុជា​កើនឡើង​ ២៣% ​នៅ​ត...</td>\n",
       "      <td>ការនាំចេញ​កៅស៊ូ​របស់​កម្ពុជា​បាន​កើនឡើង​ជាង ២...</td>\n",
       "      <td>0</td>\n",
       "      <td>7173</td>\n",
       "    </tr>\n",
       "    <tr>\n",
       "      <th>6</th>\n",
       "      <td>Breaking New: ADB បន្ថយការព្យាករ កំណើន សេដ្ឋកិ...</td>\n",
       "      <td>Breaking New: សេដ្ឋកិច្ចប្រទេសកម្ពុជា ត្រូវបាន...</td>\n",
       "      <td>0</td>\n",
       "      <td>4557</td>\n",
       "    </tr>\n",
       "  </tbody>\n",
       "</table>\n",
       "</div>"
      ],
      "text/plain": [
       "                                               title  \\\n",
       "0  សម្ដេចតេជោ ព្រមានចាប់ខ្លួន លោក ចាន់ យ៉េត ដែល ព...   \n",
       "1      ថៃ​គ្រោង​ពិភាក្សា​នឹង​កម្ពុជា​ លើ​បញ្ហា​ថាមពល   \n",
       "4  កម្ពុជា​ចុះ MoU ជាមួយ​ចិន​ ដើម្បី​បណ្តុះ​ធនធាន...   \n",
       "5  ការនាំចេញ​កៅស៊ូ​របស់​កម្ពុជា​កើនឡើង​ ២៣% ​នៅ​ត...   \n",
       "6  Breaking New: ADB បន្ថយការព្យាករ កំណើន សេដ្ឋកិ...   \n",
       "\n",
       "                                             content  label  __index_level_0__  \n",
       "0  ភ្នំពេញ ៖ សម្ដេចតេជោ ហ៊ុន សែន នាយករដ្ឋមន្ដ្រី ...      3               5777  \n",
       "1   រដ្ឋមន្ត្រីក្រសួង​ថាមពល​ថៃ លោក Sontirat Sonti...      0               7284  \n",
       "4   កម្ពុជា​បាន​ចុះហត្ថលេខា​លើ​អនុស្សរណៈ​យោគយល់​គ...      0               7241  \n",
       "5   ការនាំចេញ​កៅស៊ូ​របស់​កម្ពុជា​បាន​កើនឡើង​ជាង ២...      0               7173  \n",
       "6  Breaking New: សេដ្ឋកិច្ចប្រទេសកម្ពុជា ត្រូវបាន...      0               4557  "
      ]
     },
     "execution_count": 20,
     "metadata": {},
     "output_type": "execute_result"
    }
   ],
   "source": [
    "# 100 sample data from the train set (economic, sport, and technology)\n",
    "sample_dataset = dataset['train'].to_pandas()\n",
    "sample_dataset = sample_dataset[sample_dataset['label'].isin([0, 3, 4, 5])]\n",
    "sample_dataset.head()"
   ]
  },
  {
   "cell_type": "code",
   "execution_count": 24,
   "metadata": {},
   "outputs": [
    {
     "name": "stdout",
     "output_type": "stream",
     "text": [
      "<class 'pandas.core.frame.DataFrame'>\n",
      "Index: 100 entries, 657 to 389\n",
      "Data columns (total 4 columns):\n",
      " #   Column             Non-Null Count  Dtype \n",
      "---  ------             --------------  ----- \n",
      " 0   title              100 non-null    object\n",
      " 1   content            100 non-null    object\n",
      " 2   label              100 non-null    int64 \n",
      " 3   __index_level_0__  100 non-null    int64 \n",
      "dtypes: int64(2), object(2)\n",
      "memory usage: 3.9+ KB\n"
     ]
    }
   ],
   "source": [
    "sample_dataset = sample_dataset.sample(100, random_state=42)\n",
    "\n",
    "sample_dataset.info()"
   ]
  },
  {
   "cell_type": "code",
   "execution_count": 23,
   "metadata": {},
   "outputs": [
    {
     "data": {
      "text/plain": [
       "[{'spider': 'khmerhealth',\n",
       "  'title': 'សម្គាល់\\u200bជំងឺ\\u200bរលាក\\u200bសួត\\u200bជាមួយ\\u200bរោគសញ្ញា\\u200bទាំងនេះ\\u200b',\n",
       "  'url': 'https://www.health.com.kh/archives/327093',\n",
       "  'content': '\\u200bជំងឺ\\u200bរលាក\\u200bសួត គឺជា\\u200bការបង្ក\\u200bរោគ ដែល\\u200bធ្វើឱ្យ\\u200bថង់\\u200bខ្យល់\\u200bចេញចូល\\u200bក្នុង\\u200bសួត\\u200bមួយ ឬ\\u200bទាំងពីរ\\u200bរលាក\\u200b។ ថង់\\u200bខ្យល់\\u200bអាច\\u200bនឹង\\u200bពោរពេញ\\u200bទៅដោយ\\u200bអង្គធាតុ\\u200bរាវ ឬ\\u200bខ្ទុះ បណ្តាលឱ្យ\\u200bក្អកមាន\\u200bស្លេស្ម ឬ\\u200bខ្ទុះ គ្រុនក្តៅ ញាក់ និង\\u200bពិបាក\\u200bដកដង្ហើម\\u200b។ ពពួក\\u200bសារពាង្គកាយ\\u200bជាច្រើន\\u200bរួមមាន\\u200bបាក់តេរី វីរុស និង\\u200bផ្សិត\\u200bអាច\\u200bបណ្តាលឱ្យ\\u200bរលាក\\u200bសួត\\u200b។\\u200b\\n\\u200bជំងឺ\\u200bរលាក\\u200bសួត អាច\\u200bស្ថិតក្នុង\\u200bភាព\\u200bធ្ងន់ធ្ងរ ពី\\u200bកម្រិត\\u200bស្រាល\\u200bដល់\\u200bអាយុជីវិត\\u200b។ វា\\u200bធ្ងន់ធ្ងរ\\u200bបំផុត\\u200bចំពោះ\\u200bទារក និង\\u200bកុមារ\\u200bតូច មនុស្ស\\u200bដែលមាន\\u200bអាយុ\\u200bលើសពី ៦៥ ឆ្នាំ និង\\u200bអ្នក\\u200bដែលមាន\\u200bបញ្ហា\\u200bសុខភាព ឬ\\u200bប្រព័ន្ធ\\u200bភាពស៊ាំ\\u200bចុះខ្សោយ\\u200b។\\n\\u200bសញ្ញា និង\\u200bរោគសញ្ញា\\u200bនៃ\\u200bជំងឺ\\u200bរលាក\\u200bសួត\\u200bខុសគ្នា\\u200bពី\\u200bស្រាល\\u200bទៅ\\u200bធ្ងន់ធ្ងរ អាស្រ័យ\\u200bលើក\\u200bត្តា\\u200bមួយចំនួន\\u200bដូចជា ប្រភេទ\\u200bនៃ\\u200bមេរោគ\\u200bបង្កឱ្យមាន\\u200bការឆ្លង\\u200bមេរោគ អាយុ និង\\u200bសុខភាព\\u200bទូទៅ\\u200bរបស់\\u200bអ្នក\\u200b។ សញ្ញា\\u200bនិង\\u200bរោគសញ្ញា\\u200bស្រាលៗ ច្រើនតែ\\u200bស្រដៀង\\u200bនឹង\\u200bរោគសញ្ញា\\u200bផ្តាសាយ ឬ\\u200bផ្តាសាយធំ ប៉ុន្តែ\\u200bវា\\u200bមាន\\u200bរយៈពេល\\u200bយូរ\\u200b។\\u200b\\n\\u200bសញ្ញា និង\\u200bរោគសញ្ញា\\u200bនៃ\\u200bជំងឺ\\u200bរលាក\\u200bសួត\\u200bអាច\\u200bរួមមាន\\u200b៖\\n.\\u200bឈឺទ្រូង\\u200bពេល\\u200bដកដង្ហើម\\u200bឬ\\u200bក្អក\\u200b\\n.\\u200bភាពច្របូកច្របល់ ឬ\\u200bការផ្លាស់ប្តូរ\\u200bការយល់ដឹង\\u200bផ្នែក\\u200bស្មារតី (\\u200bចំពោះ\\u200bមនុស្សពេញវ័យ\\u200bដែលមាន\\u200bអាយុ\\u200bលើសពី ៦៥ ឆ្នាំ\\u200b)\\n.\\u200bក្អក\\u200bដែល\\u200bអាច\\u200bផលិត\\u200bស្លេស្ម\\u200b\\n.\\u200bអស់កម្លាំង\\u200b\\n.\\u200bក្តៅខ្លួន បែកញើស និង\\u200bញាក់\\u200b\\n.\\u200bសីតុណ្ហភាព ទាប\\u200bជាង\\u200bសីតុណ្ហភាព\\u200bរាងកាយ\\u200bធម្មតា (\\u200bចំពោះ\\u200bមនុស្សពេញវ័យ ដែលមាន\\u200bអាយុ\\u200bលើសពី ៦៥ ឆ្នាំ និង\\u200bមនុស្ស\\u200bដែលមាន\\u200bប្រព័ន្ធ\\u200bភាពស៊ាំ\\u200bខ្សោយ\\u200b)\\n.\\u200bចង្អោរ ក្អួត ឬ\\u200bរាគ\\u200b\\n.\\u200bដង្ហើម\\u200bខ្លី ។\\u200b\\n\\u200bទារក\\u200bទើបនឹង\\u200bកើត និង\\u200bទារក ប្រហែលជា\\u200bមិន\\u200bបង្ហាញ\\u200bសញ្ញា\\u200bណាមួយ\\u200bនៃ\\u200bការឆ្លង\\u200bទេ\\u200b។ ឬ\\u200bពួកគេ\\u200bអាច\\u200bក្អួត ក្តៅខ្លួន និង\\u200bក្អក\\u200bលេចឡើង មិន\\u200bស្រួល ឬ\\u200bអស់កម្លាំង និង\\u200bគ្មាន\\u200bថាមពល\\u200bឬ ពិបាក\\u200bដកដង្ហើម\\u200bនិង\\u200bញ៉ាំ\\u200b៕\\u200b'},\n",
       " {'spider': 'khmerhealth',\n",
       "  'title': 'ជំងឺ\\u200bរលាក\\u200bទងសួត (Bronchitis)',\n",
       "  'url': 'https://www.health.com.kh/archives/358037',\n",
       "  'content': 'ជំងឺ\\u200bរលាក\\u200bទងសួត\\u200bគឺជា\\u200bជំងឺឆ្លង\\u200bតាម\\u200bទងសួត\\u200bដែល\\u200bជា\\u200bផ្លូវដង្ហើម\\u200bភ្ជាប់\\u200bបំពង់ខ្យល់\\u200bទៅ\\u200bនឹង\\u200bសួត\\u200b។ វា\\u200bច្រើន\\u200bតែ\\u200bបង្ករ\\u200bឡើង\\u200bដោយ\\u200bការ\\u200bឆ្លង\\u200bមេរោគ\\u200bនៅ\\u200bផ្លូវដង្ហើម\\u200bផ្នែក\\u200bខាងលើ ហើយ\\u200bប្រសិនបើ\\u200bវា\\u200bមិនជា\\u200bនោះ\\u200bទេ វា\\u200bអាច\\u200bបង្ករ\\u200bឱ្យ\\u200bមាន\\u200bជំងឺ\\u200bរលាក\\u200bសួត (pneumonia)\\u200b។\\nគ្រូពេទ្យ Barbara Phillips និយាយ\\u200bថា ក្នុង\\u200bករណី\\u200bជា\\u200bច្រើន ថ្នាំ\\u200bអង់\\u200bទី\\u200bប៊ី\\u200bយូ\\u200bទិច\\u200bមិន\\u200bអាច\\u200bព្យាបាល\\u200bជំងឺ\\u200bរលាក\\u200bទងសួត\\u200bដែល\\u200bបង្ករ\\u200bឡើង\\u200bដោយ\\u200bមេរោគ\\u200bបាន\\u200bទេ ប៉ុន្តែ\\u200bវា\\u200bអាច\\u200bព្យាបាល\\u200bបាន\\u200bប្រសិនបើ\\u200bជំងឺ\\u200bនេះ\\u200bបង្ករ\\u200bឡើង\\u200bដោយ\\u200bបាក់តេរី\\u200b។ ជំងឺ\\u200bរលាក\\u200bសួត\\u200bនឹង\\u200bបាត់\\u200bទៅ\\u200bវិញ\\u200bដោយ\\u200bខ្លួនឯង\\u200bក្នុង ១ ទៅ ២\\u200bស\\u200bប្តា\\u200bហ៍ ប៉ុន្តែ\\u200bចំពោះ\\u200bអ្នកមាន\\u200bឈឺ\\u200bធ្ងន់ធ្ងរ\\u200bអាច\\u200bក្អក\\u200bនិង\\u200bដកដង្ហើម\\u200bដង្ហក់\\u200bរយៈពេល\\u200bជា\\u200bច្រើន\\u200bខែ\\u200b។ ទោះជា\\u200bអ្នក\\u200bត្រូវ\\u200bព្យាបាល\\u200bវា\\u200bតាម\\u200bសម្រួល ប៉ុន្តែ\\u200bមាន\\u200bវិធី\\u200bមួយ\\u200bចំនួន\\u200bដែល\\u200bអាច\\u200bជួយ\\u200bឱ្យ\\u200bអ្នក\\u200bដកដង្ហើម\\u200bបាន\\u200bស្រួល\\u200b។\\nបញ្ឈប់\\u200bការ\\u200bជក់បារី\\u200b៖ វា\\u200bជា\\u200bរឿង\\u200bសំខាន់\\u200bក្នុង\\u200bការ\\u200bបញ្ឈប់\\u200bការ\\u200bជក់បារី ជា\\u200bពិសេស\\u200bប្រសិនបើ\\u200bអ្នក\\u200bឈឺ\\u200bធ្ងន់\\u200b។ ៩០ ទៅ ៩៥\\u200bភាគរយ\\u200bនៃ\\u200bជំងឺ\\u200bរលាក\\u200bទងសួត\\u200bបង្ករ\\u200bឡើង\\u200bដោយ\\u200bការ\\u200bជក់បារី\\u200b។\\nគេច\\u200bចេញពី\\u200bផ្សែង\\u200bបារី\\u200b៖ គេច\\u200bពី\\u200bអ្នក\\u200bដែល\\u200bជក់បារី ហើយ\\u200bប្រសិនបើ\\u200bដៃគូ\\u200bរបស់\\u200bអ្នក\\u200bជក់បារី ត្រូវ\\u200bហាម\\u200bគាត់\\u200bមិន\\u200bឱ្យ\\u200bជក់\\u200b។ ការ\\u200bបឺត\\u200bយក\\u200bផ្សែង\\u200bបារី\\u200bដែល\\u200bអ្នក\\u200bដទៃ\\u200bជក់\\u200bក៏\\u200bអាច\\u200bធ្វើ\\u200bឱ្យ\\u200bអ្នក\\u200bកើត\\u200bជំងឺ\\u200bរលាក\\u200bទងសួត\\u200bបាន\\u200bដែរ\\u200b។\\nទទួលទាន\\u200bទឹក\\u200bឱ្យ\\u200bបាន\\u200bច្រើន\\u200b៖ ការ\\u200bទទួលទាន\\u200bទឹក\\u200bពី ៤ ទៅ ៦\\u200bកែវ ក្នុង\\u200bមួយ\\u200bថ្ងៃ អាច\\u200bជួយ\\u200bឱ្យ\\u200bអ្នក\\u200bងាយស្រួល\\u200bក្អក\\u200bជាង\\u200bមុន\\u200b។ ចៀសវាង\\u200bទទួលទាន\\u200bជាតិ\\u200bកាហ្វេ\\u200bអ៊ី\\u200bន\\u200bឬ\\u200bគ្រឿង\\u200bស្រវឹង ព្រោះ\\u200bវា\\u200bធ្វើ\\u200bឱ្យ\\u200bអ្នក\\u200bនោម\\u200bច្រើន\\u200bដែល\\u200bធ្វើ\\u200bឱ្យ\\u200bបាត់បង់\\u200bជាតិ\\u200bទឹក\\u200bច្រើន\\u200b។\\nដកដង្ហើម\\u200bដោយ\\u200bប្រើ\\u200bខ្យល់\\u200bឧណ្ហ\\u200bៗ៖ ខ្យល់\\u200bក្តៅ\\u200bឧណ្ហ\\u200bៗ\\u200bជួយ\\u200bធ្វើ\\u200bឱ្យ\\u200bសំបោ\\u200bដែល\\u200bកកស្ទះ\\u200bនៅ\\u200bករ\\u200bលាយ ដែល\\u200bជួយ\\u200bឱ្យ\\u200bអ្នក\\u200bងាយស្រួល\\u200bក្អក\\u200bជាង\\u200bមុន\\u200b។\\nយកចិត្តទុកដាក់\\u200bលើ\\u200bវិធី\\u200bបង្ការ\\u200b៖ ទារក\\u200b, កុមារ\\u200b, អ្នក\\u200bជក់បារី\\u200b, អ្នកមាន\\u200bជំងឺ\\u200bបេះដូង\\u200bឬ\\u200bសួត\\u200b, និង\\u200bមនុស្ស\\u200bចាស់\\u200bសុទ្ធតែ\\u200bងាយ\\u200bនឹង\\u200bមាន\\u200bជំងឺ\\u200bរលាក\\u200bទងសួត ឬ\\u200bអាច\\u200bនឹង\\u200bដល់\\u200bថ្នាក់\\u200bមាន\\u200bជំងឺ\\u200bរលាក\\u200bសួត\\u200b។ ពួក\\u200bគេ\\u200bគួរ\\u200bចៀសវាង\\u200bធ្វើការ\\u200bខាងក្រៅ\\u200bនិង\\u200bហាត់ប្រាណ\\u200bពេល\\u200bដែល\\u200bមាន\\u200bជាតិពុល\\u200bក្នុង\\u200bបរិយាកាស\\u200bខ្លាំង\\u200b។\\nករណី\\u200bត្រូវ\\u200bរក\\u200bគ្រូពេទ្យ\\u200b៖'}]"
      ]
     },
     "execution_count": 23,
     "metadata": {},
     "output_type": "execute_result"
    }
   ],
   "source": [
    "# load health scraped data\n",
    "import json\n",
    "with open('data/20250616_khmer_health_data.json', 'r', encoding='utf-8') as f:\n",
    "    health_data = json.load(f)\n",
    "\n",
    "health_data[:2]"
   ]
  },
  {
   "cell_type": "code",
   "execution_count": 25,
   "metadata": {},
   "outputs": [],
   "source": [
    "essembled_dataset = []\n",
    "for item in health_data:\n",
    "    essembled_dataset.append({\n",
    "        'content': item['content'],\n",
    "        'label': 1,  # health related news\n",
    "    })\n",
    "\n",
    "for item in sample_dataset.to_dict('records'):\n",
    "    essembled_dataset.append({\n",
    "        'content': item['content'],\n",
    "        'label': 0,  # non-health related news\n",
    "    })"
   ]
  },
  {
   "cell_type": "code",
   "execution_count": 26,
   "metadata": {},
   "outputs": [
    {
     "data": {
      "text/plain": [
       "189"
      ]
     },
     "execution_count": 26,
     "metadata": {},
     "output_type": "execute_result"
    }
   ],
   "source": [
    "len(essembled_dataset)"
   ]
  },
  {
   "cell_type": "code",
   "execution_count": 29,
   "metadata": {},
   "outputs": [],
   "source": [
    "# shuffle the dataset\n",
    "import random\n",
    "random.seed(42)\n",
    "\n",
    "random.shuffle(essembled_dataset)"
   ]
  },
  {
   "cell_type": "code",
   "execution_count": 31,
   "metadata": {},
   "outputs": [
    {
     "data": {
      "text/plain": [
       "[{'content': '\\u200bនៅពេល\\u200bកុមារ\\u200bមាន\\u200bជំងឺ\\u200bរលាក\\u200bសួត\\u200bរោគសញ្ញា\\u200bរបស់\\u200bពួកគេ\\u200bអាច\\u200bពិបាក\\u200bសម្គាល់\\u200b។ រោគសញ្ញា\\u200bទាំងនោះ\\u200bមានដូចជា\\u200b៖\\n-\\u200bដកដង្ហើម\\u200bញាប់\\u200b\\n-\\u200bពិបាក\\u200bដកដង្ហើម\\u200b\\n-\\u200bគ្រុន\\u200b\\n-\\u200bក្អក\\u200b\\n-\\u200bដកដង្ហើម\\u200bតឹង លឺសូរ\\u200bក្រេតក្រតៗ\\u200b\\n-\\u200bស្បែក បបូរមាត់ ឬ\\u200bចុង\\u200bម្រាមដៃ មើលទៅ\\u200bពណ៌\\u200bខៀវ\\u200b\\n\\u200bរោគសញ្ញា\\u200bនៅក្នុង\\u200bទារក\\u200bអាច\\u200bមិន\\u200bច្បាស់\\u200bដូចជា\\u200bការ រអាក់រអួល ឬ\\u200bពិបាក\\u200bក្នុងការ\\u200bបំបៅ\\u200b។\\n\\u200bពេលណា\\u200bត្រូវ\\u200bទៅ\\u200bជួប\\u200bគ្រូពេទ្យ\\u200b?\\n\\u200bសូម\\u200bទៅ\\u200bជួប\\u200bគ្រូពេទ្យ\\u200bភ្លាមៗ\\u200bប្រសិនបើ\\u200bអ្នក ឬ\\u200bកូន\\u200bរបស់\\u200bអ្នកមាន\\u200bជំងឺ\\u200bផ្តាសាយ ឬ\\u200bគ្រុនផ្តាសាយ\\u200bដែល\\u200bមិន\\u200bធូរស្រាល\\u200bដោយ\\u200bការ\\u200bសម្រាក និង\\u200bការព្យាបាល ប្រសិនបើ\\u200bរោគសញ្ញា\\u200bចាប់ផ្តើម\\u200bកាន់តែ\\u200bអាក្រក់\\u200b, ប្រសិនបើ\\u200bអ្នកមាន\\u200bបញ្ហា\\u200bសុខភាព\\u200bផ្សេងទៀត ឬ\\u200bប្រព័ន្ធ\\u200bភាពស៊ាំ\\u200bចុះខ្សោយ ឬ\\u200bប្រសិនបើ\\u200bអ្នក កត់សម្គាល់\\u200bរោគសញ្ញា ដែល\\u200bអាច\\u200bកើត\\u200bមាននៃ\\u200bជំងឺ\\u200bរលាក\\u200bសួត\\u200b។\\n\\u200bនរណាម្នាក់ ដែលមាន\\u200bការឆ្លង\\u200bមេរោគ\\u200bសួត\\u200bនេះ\\u200bត្រូវការ\\u200bការយកចិត្តទុកដាក់\\u200bខាង\\u200bវេជ្ជសាស្ត្រ\\u200b៕\\u200b',\n",
       "  'label': 1},\n",
       " {'content': '[expander_maker id=”1″ more=”អានបន្ត” less=”រំលង”]\\n[/expander_maker]\\n[expander_maker id=”1″ more=”អានបន្ត” less=”រំលង”]\\n[/expander_maker]\\n[expander_maker id=”1″ more=”អានបន្ត” less=”រំលង”]\\n[/expander_maker]\\n[expander_maker id=”1″ more=”អានបន្ត” less=”រំលង”]\\n[/expander_maker]\\n[expander_maker id=”1″ more=”អានបន្ត” less=”រំលង”]\\n[/expander_maker]\\n[expander_maker id=”1″ more=”អានបន្ត” less=”រំលង”]\\n[/expander_maker]\\n[expander_maker id=”1″ more=”អានបន្ត” less=”រំលង”]\\n[/expander_maker]\\n[expander_maker id=”1″ more=”អានបន្ត” less=”រំលង”]\\n[/expander_maker]\\n[expander_maker id=”1″ more=”អានបន្ត” less=”រំលង”]\\n[/expander_maker]\\n[expander_maker id=”1″ more=”អានបន្ត” less=”រំលង”]\\n[/expander_maker]\\n[expander_maker id=”1″ more=”អានបន្ត” less=”រំលង”]\\n[/expander_maker]\\n[expander_maker id=”1″ more=”អានបន្ត” less=”រំលង”]\\n[/expander_maker]\\n[expander_maker id=”1″ more=”អានបន្ត” less=”រំលង”]\\n[/expander_maker]',\n",
       "  'label': 1},\n",
       " {'content': 'យោង\\u200bទៅ\\u200bតាម\\u200bអ្នកជំនាញ\\u200bខាង\\u200bភ្នែក\\u200bជា\\u200bច្រើន\\u200bបាន\\u200bឲ្យ\\u200bដឹង\\u200bថា ប្រហែលជា ៦០\\u200bភាគរយ\\u200bនៃ\\u200bមនុស្ស\\u200bទាំងអស់\\u200bលើ\\u200bផែនដី\\u200bយើង\\u200bនេះ ត្រូវការ\\u200bការ\\u200bកែរ\\u200bតម្រូវ\\u200bគំហើញ\\u200bរបស់\\u200bពួក\\u200bគេ\\u200bតាម\\u200bរយៈ\\u200bការ\\u200bផ្តល់\\u200bជា\\u200bវ៉ែនតា\\u200bការពារ\\u200bភ្នែក\\u200bពី\\u200bគ្រូពេទ្យ\\u200bជំនាញ\\u200bខាង\\u200bផ្នែក\\u200b។\\nបើសិនជា\\u200bអ្នកជា\\u200bម្នាក់\\u200bក្នុង\\u200bនោះ\\u200bមែន វា\\u200bអាច\\u200bនឹង\\u200bពិបាក\\u200bនិយាយ\\u200bថា អ្នក\\u200bត្រូវការ\\u200bវ៉ែនតា\\u200bដែរ\\u200bឬ\\u200bអត់\\u200bណាស់\\u200bដោយសារ\\u200bតែ\\u200bអ្នក\\u200bអាច\\u200bមិន\\u200bមាន\\u200bអាកា\\u200bរៈ\\u200bគ្រប់គ្រាន់\\u200b។ យ៉ាងណាមិញ តាម\\u200bរយៈ\\u200bអត្ថបទ\\u200bនេះ ខ្ញុំ\\u200bនឹង\\u200bបង្ហាញ\\u200bអំពី\\u200bអាកា\\u200bរៈ\\u200bច្បាស់លាស់\\u200bមួយ\\u200bចំនួន ដែល\\u200bអ្នក\\u200bត្រូវ\\u200bតែ\\u200bទៅ\\u200bជួប\\u200bពេទ្យ\\u200bភ្នែក\\u200bដើម្បី\\u200bពិនិត្យ និង\\u200bព្យាបាល ហើយ\\u200bបើសិនជា\\u200bចាំបាច់ អាច\\u200bនឹង\\u200bត្រូវការ\\u200bពាក់\\u200bវ៉ែនតា\\u200bទៀត\\u200bផង\\u200b។\\nគំហើញ\\u200bប្រែប្រួល\\nបើសិនជា\\u200bអ្នក\\u200bសង្កេត\\u200bឃើញ\\u200bថា អ្វី\\u200bដែល\\u200bអ្នក\\u200bមើលឃើញ\\u200bមិន\\u200bដូច\\u200bគ្នា\\u200bនឹង\\u200bគំហើញ\\u200bរបស់\\u200bអ្នក\\u200bពី\\u200bមុន\\u200bទេ មាន\\u200bន័យ\\u200bថា វា\\u200bដល់\\u200bពេល\\u200bដែល\\u200bអ្នក\\u200bចាប់ផ្តើម\\u200bពាក់\\u200bវ៉ែនតា\\u200bហើយ\\u200b។ គំ\\u200bហើយ\\u200bញ\\u200bដែល\\u200bឃើញ\\u200bព្រឹល\\u200bៗ គឺជា\\u200bហេតុផល\\u200bញឹកញាប់\\u200bបំផុត\\u200bដែល\\u200bមនុស្ស\\u200bជា\\u200bច្រើន\\u200bសម្រេចចិត្ត\\u200bទៅ\\u200bជួប\\u200bពេទ្យ\\u200bភ្នែក\\u200b។ រឿង\\u200bនេះ\\u200bក៏\\u200bអាច\\u200bធ្វើ\\u200bឲ្យ\\u200bអ្នក\\u200bមើល\\u200bមិត្តភក្តិ\\u200bមិន\\u200bស្គាល់\\u200bដែរ\\u200bទោះបីជា\\u200bនៅ\\u200bឆ្ងាយ\\u200bពី\\u200bគ្នា\\u200bពីរ\\u200bបី\\u200bម៉ែត្រ\\u200bក៏\\u200bដោយ\\u200b។\\nពិបាក\\u200bមើលឃើញ\\u200bនៅ\\u200bពេល\\u200bយប់\\nមាន\\u200bជំងឺ\\u200bមួយ\\u200bឈ្មោះ\\u200bថា ខ្វាក់មាន់ ដែល\\u200bធ្វើ\\u200bឲ្យ\\u200bមើល\\u200bមិនឃើញ\\u200bនៅ\\u200bពេល\\u200bយប់\\u200bទេ ជា\\u200bពិសេស\\u200bនៅ\\u200bពេល\\u200bមាន\\u200bពន្លឺ\\u200bតិចតួច ឬ\\u200bមិន\\u200bគ្រប់គ្រាន់\\u200b។ អ្នកជំនាញ\\u200bខាង\\u200bភ្នែក\\u200bនិយាយ\\u200bថា គំហើញ\\u200bនៅ\\u200bពេល\\u200bយប់\\u200bអាច\\u200bមាន\\u200bបញ្ហា\\u200bដោយសារ\\u200bតែ\\u200bកង្វះ\\u200bវីតាមីន A ជំងឺ\\u200bខ្វាក់\\u200bកូ\\u200bម ឬ\\u200bភ្នែក\\u200bឡើងបាយ តែ\\u200bវា\\u200bអាច\\u200bព្យាបាល\\u200bបាន\\u200b។ ប៉ុន្តែ\\u200bនៅ\\u200bពេល\\u200bអ្នកមាន\\u200bអាកា\\u200bរៈ\\u200bដំបូង\\u200bនៃ\\u200bជំងឺខ្វាក់មាន់\\u200bហើយ យក\\u200bល្អ\\u200bគួរតែ\\u200bជួប\\u200bពេទ្យ\\u200bភ្នែ\\u200bគ\\u200bឲ្យ\\u200bបាន\\u200bលឿន\\u200bបំផុត\\u200bតាមតែ\\u200bអាច\\u200bធ្វើ\\u200bបាន\\u200b។\\nភ្នែក\\u200bអស់កម្លាំង ឬ\\u200bមាន\\u200bសម្ពាធ\\u200bក្នុង\\u200bភ្នែក\\nភ្នែក\\u200bដែល\\u200bមើលឃើញ\\u200bពីរ\\u200bៗ ភ្នែក\\u200bស្ងួត ឬ\\u200bហូរ\\u200bទឹកភ្នែក រមាស់\\u200bក្នុង\\u200bភ្នែក ឬ\\u200bមាន\\u200bអារម្មណ៍\\u200bក្រហាយ\\u200bៗ\\u200bក្នុង\\u200bផ្នែក មិន\\u200bអាច\\u200bប៉ះ\\u200bពន្លឺ\\u200bបាន សុទ្ធតែ\\u200bជា\\u200bបញ្ហា\\u200bដែល\\u200bនាំ\\u200bឲ្យ\\u200bអស់កម្លាំង\\u200bក្នុង\\u200bភ្នែក\\u200bបាន\\u200bទាំងអស់\\u200b។ ករណី\\u200bដែល\\u200bរឿង\\u200bនេះ\\u200bកំពុង\\u200bតែ\\u200bរំខាន\\u200bដល់\\u200bជីវិត\\u200bប្រចាំ\\u200bថ្ងៃ ឬ\\u200bការ\\u200bរស់នៅ\\u200bប្រចាំ\\u200bថ្ងៃ\\u200bញឹកញាប់\\u200bប\\u200bពេក វា\\u200bអាច\\u200bជា\\u200bហេតុផល\\u200bដ៏\\u200bសំខាន់\\u200bមួយ\\u200bដែល\\u200bអ្នក\\u200bត្រូវ\\u200bបញ្ចប់\\u200bវា\\u200bជាមួយនឹង\\u200bការ\\u200bជួប\\u200bពេទ្យ\\u200bភ្នែក\\u200bដើម្បី\\u200bព្យាបាល ឬ\\u200bត្រូវការ\\u200bកាត់\\u200bវ៉ែនតា\\u200bហើយ\\u200b។\\nមាន\\u200bបញ្ហា\\u200bលើ\\u200bការ\\u200bប្រើប្រាស់\\u200bកុំព្យូទ័រ\\nតើ\\u200bការងារ\\u200bអ្នក\\u200bតម្រូវ\\u200bឲ្យ\\u200bអង្គុយ\\u200bនៅ\\u200bមុខ\\u200bកុំព្យូទ័រ\\u200bច្រើន\\u200bម៉ោង តែ\\u200bអ្នក\\u200bកំពុង\\u200bតែ\\u200bមាន\\u200bបញ្ហា\\u200bជា\\u200bច្រើន\\u200bដោយសារ\\u200bតែ\\u200bអាកា\\u200bរៈ\\u200bទាក់ទង\\u200bនឹង\\u200bការ\\u200bពិបាក\\u200bអាន ឬ\\u200bឈឺក្បាល\\u200bនៅ\\u200bពេល\\u200bមើល\\u200bកញ្ចក់\\u200bកុំព្យូទ័រ\\u200bម្តង\\u200bៗ\\u200bមែន\\u200bទេ? រឿង\\u200bនេះ\\u200bពេល\\u200bខ្លះ\\u200bអាច\\u200bដោយសារ\\u200bតែ\\u200bភ្នែក\\u200bធ្វើការ\\u200bច្រើន\\u200bបេ\\u200bក\\u200b។ ប៉ុន្តែ\\u200bអ្វី\\u200bដែល\\u200bជា\\u200bការ\\u200bពិត\\u200bនោះ អ្នក\\u200bត្រូវ\\u200bតែ\\u200bទៅ\\u200bជួប\\u200bពេទ្យ\\u200bភ្នែក\\u200bដើម្បី\\u200bពិនិត្យ\\u200bរក\\u200bអ្វីមួយ\\u200bដែល\\u200bខុស\\u200bប្រក្រតី\\u200b។ តែ\\u200bបើសិនជា\\u200bអ្នក\\u200bទុក\\u200bពេល\\u200bឲ្យ\\u200bភ្នែក\\u200bសម្រាក\\u200bបាន\\u200bពីរ\\u200bបី\\u200bនាទី ហើយ\\u200bវា\\u200bល្អ\\u200bវិញ គួរតែ\\u200bធ្វើ\\u200bបែប\\u200bនេះ\\u200bសិន ចាំ\\u200bទៅ\\u200bជួប\\u200bពេទ្យ\\u200bភ្នែក\\u200bក្រោយ\\u200b។\\nឈឺក្បាល\\u200bជា\\u200bញឹកញាប់\\nមាន\\u200bហេតុផល\\u200bច្រើន\\u200bណាស់\\u200bដែល\\u200bធ្វើ\\u200bឲ្យ\\u200bមនុស្ស\\u200bម្នាក់\\u200bៗ\\u200bឈឺក្បាល\\u200bដូច\\u200bជា ស្ត្រេ\\u200bស ថប់\\u200bអារម្មណ៍ ជំហរ\\u200bមិន\\u200bត្រឹមត្រូវ គេង\\u200bមិន\\u200bគ្រប់គ្រាន់ ស្រវឹងស្រា ឬ\\u200bលេបថ្នាំ\\u200bជាដើម\\u200b។ តែ\\u200bបើសិនជា\\u200bអ្នកមាន\\u200bបញ្ហា\\u200bជាមួយនឹង\\u200bការ\\u200bមើលឃើញ ក៏\\u200bអាច\\u200bធ្វើ\\u200bឲ្យ\\u200bឧស្សាហ៍\\u200bឈឺក្បាល\\u200bបាន\\u200bដែរ\\u200b។ ចូរ\\u200bទៅ\\u200bជួប\\u200bពេទ្យ\\u200bភ្នែក\\u200bបើសិនជា\\u200bការ\\u200bឈឺក្បាល\\u200bរបស់\\u200bអ្នកមាន\\u200bលក្ខណៈ\\u200bញឹកញាប់ ហើយ\\u200bរក\\u200bអ្វី\\u200bដោះស្រាយ\\u200bមិន\\u200bចេញ\\u200b៕',\n",
       "  'label': 1},\n",
       " {'content': '\\u200bក្រុម\\u200bបាល់ទាត់\\u200bនារី\\u200b កាណាដា ត្រូវ\\u200bកាត់\\u200b៦\\u200bពិន្ទុ ខណៈ\\u200bគ្រូ\\u200bបង្វឹក\\u200bពិន័យ\\u200b១ឆ្នាំ\\u200bក្រោយ\\u200bគេ\\u200bស៊ើបដឹងថាធ្វើ\\u200bរឿង\\u200bដ៏ហួសចិត្ត\\u200bមួយ\\u200b,\\u200bក្រុម\\u200bបាល់ទាត់\\u200bនារី\\u200b កាណាដា ត្រូវ\\u200bកាត់\\u200b៦\\u200bពិន្ទុ ខណៈ\\u200bគ្រូ\\u200bបង្វឹក\\u200bត្រូវ\\u200bពិន័យ\\u200b១\\u200bឆ្នាំ\\u200bក្រោយ\\u200bរក\\u200bឃើញ\\u200bថា លួច\\u200bប្រើប្រាស់\\u200bឧបករណ៍\\u200b Drone តាមដាន\\u200bការ\\u200bហ្វឹកហាត់\\u200bរបស់\\u200bដៃគូ\\u200b ដូច្នេះ\\u200bកាណាដា ត្រូវ\\u200bធ្លាក់\\u200bចេញ\\u200bពី\\u200bព្រឹត្តិការណ៍\\u200bអូឡាំពិក\\u200b\\u200bអូឡាំពិក\\u200bហើយ។,Fifa បាន\\u200bប្រកាស\\u200bថា\\u200bសហព័ន្ធ\\u200bកីឡា\\u200bបាល់ទាត់\\u200bកាណាដា\\u200bក៏\\u200bទទួល\\u200bទណ្ឌកម្ម\\u200bដាក់\\u200bពិន័យ\\u200b\\u200b\\u200bជា\\u200bទឹក\\u200b\\u200b\\u200bប្រាក់\\u200bប្រមាណ ១៧៥,៧២០ ផោន\\u200bផង\\u200bដែរ\\u200b \\u200bដែល\\u200bការ\\u200bប្រកាស\\u200b\\u200bនេះ\\u200bបាន\\u200bធ្វើ\\u200bឡើង\\u200b១\\u200bថ្ងៃ\\u200bប៉ុណ្ណោះ\\u200b \\u200bបន្ទាប់\\u200bពី\\u200bគ្រូ\\u200bបង្វឹក\\u200bជម្រើស\\u200bជាតិ\\u200bកាណាដា\\u200b\\u200b\\u200bសញ្ជាតិ\\u200bអង់គ្លេស\\u200b\\u200b\\u200bអ្នក\\u200bស្រី Priestman \\u200bត្រូវ\\u200bបាន\\u200bដក\\u200bចេញ\\u200bពី\\u200bតួនាទី\\u200bជា\\u200b\\u200bគ្រូ\\u200bបង្វឹក\\u200b។,ជា\\u200bមួយ\\u200bគ្នា\\u200bនោះ\\u200bក្រុម\\u200bការងារ\\u200bរបស់\\u200bសហព័ន្ធ\\u200bកីឡា\\u200bបាល់ទាត់\\u200bកាណាដា\\u200bចំនួន\\u200b២\\u200bរូប\\u200bរួម\\u200bមាន\\u200bលោក\\u200b\\u200b Joseph Lombardi \\u200b\\u200bដែល\\u200bមាន\\u200bតួនាទី\\u200bជា\\u200bអ្នក\\u200bវិភាគ\\u200b\\u200b\\u200b\\u200bទៅ\\u200bលើ\\u200bទម្រង់\\u200bលេង\\u200b\\u200b\\u200b និង\\u200bលោក\\u200bស្រី\\u200b\\u200b Jasmine Mander \\u200bជា\\u200b\\u200bគ្រូ\\u200bជំនួយ\\u200bនោះ\\u200b ក៏\\u200b\\u200bត្រូវ\\u200bបាន\\u200bដាក់\\u200bពិន័យ\\u200bចំនួន\\u200b១\\u200b\\u200bឆ្នាំ\\u200bមិន\\u200bឲ្យ\\u200bពាក់ព័ន្ធ\\u200bនឹង\\u200bបាល់ទាត់\\u200bដូច\\u200bគ្នា\\u200bផង\\u200bដែរ\\u200b។,\\u200bក្នុង\\u200bការ\\u200bដាក់\\u200bទណ្ឌកម្ម\\u200bនេះ\\u200bនាយក\\u200bគ្រប់\\u200bគ្រង\\u200bរបស់\\u200bសហព័ន្ធ\\u200bបាល់ទាត់\\u200bពិភព\\u200bលោក\\u200b ហៅ\\u200bកាត់\\u200bថា FIFA បាន\\u200bបញ្ជាក់\\u200b\\u200bជុំ\\u200bវិញ\\u200bរឿង\\u200bនេះ\\u200b\\u200bដែរ\\u200bថា វា\\u200b\\u200bជា\\u200bការ\\u200bបំពាន\\u200bច្បាប់ fair play \\u200bរបស់\\u200b FIFA  ហើយ\\u200bវា\\u200bជា\\u200bការ\\u200bទទួល\\u200bខុស\\u200bត្រូវ\\u200bមួយ\\u200bរបស់\\u200b FIFA ផង\\u200bដែរ \\u200bបើ\\u200bទោះ\\u200b\\u200bបី\\u200bជា\\u200b\\u200bការ\\u200bធ្វើ\\u200bខុស\\u200b\\u200b\\u200bនេះ\\u200bស្ថិត\\u200b\\u200bក្រោម\\u200b\\u200bវិសាល\\u200bភាព\\u200bក្នុង\\u200bចលនា\\u200bអូឡាំពិក\\u200bក៏\\u200bដោយ\\u200b។,\\u200bលោក\\u200bស្រី Priestman គ្រូ\\u200bបង្គោល\\u200bរបស់\\u200b\\u200b\\u200bក្រុម\\u200bជម្រើស\\u200b\\u200bជាតិ\\u200bបាល់ទាត់\\u200bនារី\\u200bកាណាដា \\u200b\\u200bត្រូវ\\u200bបាន\\u200bដក\\u200bចេញ\\u200bពី\\u200bតួនាទី\\u200b\\u200bភ្លាម\\u200bៗ\\u200bបន្ទាប់\\u200bពី\\u200bចប់\\u200bការ\\u200bប្រកួត\\u200b\\u200bទល់\\u200bក្រុម នូវែលហ្សេឡង់ ( New Zealand\\xa0) \\u200bដែល\\u200bឈ្នះ ២-១\\u200b នោះ\\u200b\\u200bដោយ\\u200bមាន\\u200bការ\\u200bរក\\u200bឃើញ\\u200bថា បាន\\u200bលួច\\u200bប្រើប្រាស់\\u200bឧបករណ៍\\u200b Drone តាម\\u200bការ\\u200bហ្វឹកហាត់\\u200bរបស់\\u200bដៃគូ\\u200bកាល\\u200bក្នុង\\u200bកំឡុង\\u200bហ្វឹកហាត់\\u200bកាល\\u200bពី\\u200bថ្ងៃ\\u200bច័ន្ទ\\u200b\\u200bមុន\\u200bការ\\u200bប្រកួត\\u200bចាប់\\u200bផ្ដើម\\u200b។,\\u200bFIFA និង សហព័ន្ធ\\u200bកីឡា\\u200bបាល់ទាត់\\u200bកាណាដា កំពុង\\u200bតែ\\u200b\\u200b\\u200bបន្ត\\u200bការ\\u200bស៊ើប\\u200bអង្កេត\\u200b\\u200bបន្ថែម\\u200bទៀត\\u200bទៅ\\u200bលើ\\u200b\\u200b\\u200bការ\\u200bកិច្ច\\u200bការងារ\\u200b\\u200bនេះ\\u200b\\u200b \\u200bក្នុង\\u200bខណៈ\\u200bដែល\\u200b\\u200bសហព័ន្ធ\\u200bកីឡា\\u200bបាល់ទាត់ \\u200bកាណាដា \\u200b\\u200b\\u200bក៏\\u200bអាច\\u200b\\u200b\\u200bដាក់\\u200bពាក្យ\\u200bបណ្ដឹង\\u200bតវ៉ា\\u200bទៅ\\u200bកាន់\\u200b តុលាការ\\u200b\\u200bកីឡា\\u200bប្រសិន\\u200bបើ\\u200bពួកគេ\\u200bមាន\\u200bប្រតិកម្ម\\u200bចំពោះ\\u200bការ\\u200bដាក់\\u200bទណ្ឌកម្ម\\u200b\\u200bនេះ\\u200b។ \\u200bជា\\u200bមួយ\\u200bគ្នា\\u200bនោះ\\u200bប្រធាន\\u200b\\u200b\\u200bប្រតិបត្តិ\\u200bរបស់\\u200bគណៈកម្មការ\\u200bជាតិ\\u200bអូឡាំពិក\\u200bកាណាដា\\u200bលោក \\xa0Kevin Blue\\xa0\\u200bនិង David Shoemaker \\u200bបាន\\u200b\\u200b\\u200bបាន\\u200bបញ្ជាក់\\u200bថា ការ\\u200bប្ដឹងតវ៉ា\\u200b\\u200bគឺ\\u200bស្ថិត\\u200bក្រោម\\u200bការ\\u200bត្រួត\\u200bពិនិត្យ និង\\u200bពិចារណា\\u200b។,\\u200bលោក Kevin Blue\\xa0\\u200b\\u200b\\u200bបាន\\u200bនិយាយ\\u200bថា «\\u200b យើង\\u200bកំពុង\\u200bតែ\\u200bស្វែង\\u200bរក\\u200b\\u200bជម្រើស\\u200bណា\\u200bមួយ\\u200bដែល\\u200bល្អ\\u200bក្នុង\\u200bការ\\u200b\\u200bប្ដឹង\\u200bតវ៉ា\\u200b\\u200b\\u200b ដោយសារ\\u200bតែ\\u200b\\u200b\\u200bការ\\u200bដាក់\\u200bទណ្ឌកម្ម\\u200bនេះ\\u200bវា\\u200b\\u200bខ្លាំង\\u200b\\u200b\\u200bហួសហេតុ\\u200bមក\\u200bកាន់\\u200bក្រុម\\u200bបាល់ទាត់\\u200bជម្រើស\\u200bជាតិ\\u200bនារី\\u200b\\u200b\\u200b\\u200b កាណាដា បន្ទាប់\\u200bពី\\u200bយើង\\u200b\\u200bដឹង\\u200bថា ក្រុម\\u200bបាល់ទាត់\\u200b\\u200bនារី\\u200bរបស់\\u200bយើង\\u200b\\u200bមិន\\u200b\\u200bបាន\\u200bប្រព្រឹត្ត\\u200bទង្វើ\\u200bអសីលធម៌\\u200bណាមួយ\\u200b»៕ \\u200b\\u200b\\u200b\\u200b\\u200b\\u200b\\u200b\\u200b\\u200b\\u200b\\u200b\\u200b\\u200b\\u200b\\u200b\\u200b\\u200b\\u200b\\u200b\\u200b\\u200b\\u200b\\u200b',\n",
       "  'label': 0},\n",
       " {'content': \"Vini Jr ចង់\\u200bនៅ\\u200b Real Madrid ជា\\u200bរៀង\\u200bរហូត,ខែ្ស\\u200bស្លាប Vinicius Jr ប្រកាស\\u200bថា ចង់\\u200bនៅ\\u200bជាមួយ Real Madrid ជា\\u200bរៀង\\u200bរហូត។,ថ្លែង\\u200bក្រោយ\\u200bជួយ\\u200b Real Madrid ឲ្យ\\u200bឈ្នះ\\u200bពាន Champions League កាល\\u200bពី\\u200bចុង\\u200bសប្ដាហ៍\\u200bកន្លង\\u200bទៅ កីឡាករ\\u200bវ័យ ២៣ ឆ្នាំ បាន\\u200bប្រកាស\\u200bប្រាប់\\u200bអ្នក\\u200bសារព័ត៌មាន\\u200bថា រូប\\u200bគេ\\u200bសប្បាយ\\u200bចិត្ត\\u200bយ៉ាង\\u200bខ្លាំង\\u200bជាមួយ\\u200bក្លឹប។ ហេតុ\\u200bនេះ រូប\\u200bគេ\\u200bចង់\\u200bនៅ\\u200bជាមួយ\\u200b Real Madrid ជា\\u200bច្រើន\\u200bឆ្នាំ\\u200bបន្ត\\u200bទៀត។ រូប\\u200bគេ\\u200bចង់\\u200bនៅ\\u200bជាមួយ Real Madrid ជា\\u200bរៀង\\u200bរហូត។ នេះ\\u200bគឺ\\u200bជា\\u200bការ\\u200bលើក\\u200bឡើង\\u200bរបស់\\u200bកីឡាករ\\u200bដដែល។,Vini បាន\\u200bនិយាយ\\u200bជា\\u200bសាធារណៈ\\u200bទៀត\\u200bថា ស្នើ\\u200bឲ្យ\\u200bប្រធាន\\u200bក្លឹប Real Madrid លោក Florentino Perez \\u200bត\\u200bកុងត្រា\\u200bថ្មី\\u200bឲ្យ\\u200bរូប\\u200bគេ ព្រោះ\\u200bរូប\\u200bគេ\\u200bពិត\\u200bជា\\u200bស្រលាញ់\\u200bក្លឹប\\u200bមួយ\\u200bនេះ\\u200bណាស់។,នេះ\\u200b\\u200bមិន\\u200bមែន\\u200bជា\\u200bលើក\\u200bទី\\u200bមួយ\\u200bឡើយ ដែល\\u200bកីឡាករ\\u200bប្រេស៊ីល\\u200bរូប\\u200bនេះ និយាយ\\u200bដូច្នេះ។ កាល\\u200bពី\\u200bខែ\\u200bកុម្ភៈ ឆ្នាំ ២០២១ ខ្សែប្រយុទ្ធ\\u200bស្លាប\\u200bរូប\\u200bនេះ\\u200bក៏\\u200bថ្លែង\\u200bពាក្យ\\u200bបែប\\u200bនេះ ប្រាប់\\u200bអ្នក\\u200bសារព័ត៌មាន\\u200bផង\\u200bដែរ។,Vini Jr ទើប\\u200bត\\u200bកុងត្រាថ្មី\\u200bជាមួយ\\u200bក្លឹប Real Madrid កាល\\u200bពី\\u200bខែ\\u200bតុលា\\u200b ឆ្នាំ ២០២៣ កន្លង\\u200bទៅ។ កុងត្រាបច្ចុប្បន្ន\\u200bរបស់\\u200bកីឡាករ\\u200bមាន\\u200bសុពលភាព\\u200bរហូត\\u200bដល់\\u200bឆ្នាំ ២០២៧។,កាល\\u200bពី\\u200bប្រកួត\\u200bវគ្គ\\u200bផ្ដាច់ព្រ័ត្រ\\u200b UCL ជាមួយក្លឹប Borussia Dortmund ខ្សែ\\u200bប្រយុទ្ធ\\u200bស្លាប Vini Jr បាន\\u200bបង្ហាញ\\u200bទម្រង់\\u200bលេង\\u200bយ៉ាង\\u200bល្អ។ កីឡាករ\\u200bបាន\\u200bស៊ុត\\u200bចូល\\u200bគ្រាប់\\u200bទី ២ នៅ\\u200bនាទី ៨៣ ហើយ\\u200bជួយ\\u200bក្លឹប\\u200bឲ្យ\\u200bឈ្នះ\\u200bពាន Champions League លើក\\u200bទី ១៥ ក្រោយ\\u200bឈ្នះ\\u200b Dortmund ក្នុង\\u200bលទ្ធផល ២ ទល់\\u200bនឹង ០។,Vinicius បាន\\u200bមក\\u200bចូល\\u200bរួម\\u200bជាមួយ Real Madrid ពី\\u200bក្លឹប\\u200bប្រស៊ីល Flamengo នៅ\\u200bឆ្នាំ ២០១៨។ គិត\\u200bមក\\u200bទល់\\u200bពេល\\u200bនេះ កីឡាករ\\u200bលេង\\u200bសរុប\\u200bឲ្យ\\u200bក្លឹប\\u200bយក្ស\\u200bអេស្ប៉ាញ\\u200bចំនួន ២៦៤ ប្រកួត និង\\u200bស៊ុត\\u200bចូល ៨៣ គ្រាប់។ ក្នុង\\u200bរដូវ\\u200bកាល\\u200bនេះ កីឡាករ\\u200bបាន\\u200bបង្ហាញ\\u200bទម្រង់\\u200bលេង\\u200bយ៉ាង\\u200bល្អ\\u200bជាង\\u200bពេល\\u200bណា\\u200bៗ\\u200bទាំង\\u200bអស់\\u200bឲ្យ\\u200bក្លឹប ដោយ\\u200bខ្សែ\\u200bប្រយុទ្ធ\\u200bបាន\\u200bរក\\u200bគ្រាប់\\u200bបាល់\\u200bដល់\\u200bទៅ ២៤ គ្រាប់ ក្នុង\\u200bចំនួន ៣៩ ប្រកួត ក្នុង\\u200bនោះ\\u200bគ្រាប់\\u200bបាល់\\u200bដែល\\u200b Vini រក\\u200bបាន\\u200bច្រើន\\u200bសុទ្ធ\\u200bតែ\\u200bក្នុង\\u200bប្រកួត\\u200bសំខាន់ៗ។,ដោយ\\u200bហេតុ\\u200bនេះ ទើប\\u200bមាន\\u200bមជ្ឈដ្ឋាន\\u200bបាល់ទាត់\\u200bជាច្រើន\\u200bលើក\\u200bឡើង\\u200bថា Vini Jr អាច\\u200bនឹង\\u200bមាន\\u200bលទ្ធភាព\\u200bខ្ពស់\\u200bក្នុង\\u200bការ\\u200bឈ្នះ\\u200bពាន\\u200bរង្វាន់ Ballon d'Or ឆ្នាំ\\u200bនេះ ក្នុង\\u200bនាម\\u200bជា\\u200bកីឡាករ\\u200bឆ្នើម\\u200bបំផុត\\u200bប្រចាំ\\u200bឆ្នាំ៕,ប្រភព៖ ,អត្ថបទ៖ សេរី មង្គល\",\n",
       "  'label': 0}]"
      ]
     },
     "execution_count": 31,
     "metadata": {},
     "output_type": "execute_result"
    }
   ],
   "source": [
    "essembled_dataset[:5]"
   ]
  },
  {
   "cell_type": "code",
   "execution_count": 32,
   "metadata": {},
   "outputs": [],
   "source": [
    "# save the assembled dataset\n",
    "with open('data/20250616_khmer_health_news_dataset_for_binary_classification.json', 'w', encoding='utf-8') as f:\n",
    "    json.dump(essembled_dataset, f, ensure_ascii=False, indent=2)"
   ]
  },
  {
   "cell_type": "markdown",
   "metadata": {},
   "source": [
    "## Test Cleaning models"
   ]
  },
  {
   "cell_type": "code",
   "execution_count": 2,
   "metadata": {},
   "outputs": [
    {
     "name": "stdout",
     "output_type": "stream",
     "text": [
      "Loaded dataset size: 189\n"
     ]
    }
   ],
   "source": [
    "import json\n",
    "\n",
    "with open('data/20250616_khmer_health_news_dataset_for_binary_classification.json', 'r', encoding='utf-8') as f:\n",
    "    loaded_dataset = json.load(f)\n",
    "print(f\"Loaded dataset size: {len(loaded_dataset)}\")"
   ]
  },
  {
   "cell_type": "code",
   "execution_count": 3,
   "metadata": {},
   "outputs": [],
   "source": [
    "from utils import cleaning\n",
    "\n",
    "cleaner = cleaning.TextCleaner()"
   ]
  },
  {
   "cell_type": "code",
   "execution_count": 6,
   "metadata": {},
   "outputs": [
    {
     "name": "stdout",
     "output_type": "stream",
     "text": [
      "Original content: ​នៅពេល​កុមារ​មាន​ជំងឺ​រលាក​សួត​រោគសញ្ញា​របស់​ពួកគេ​អាច​ពិបាក​សម្គាល់​។ រោគសញ្ញា​ទាំងនោះ​មានដូចជា​៖\n",
      "-​ដកដង្ហើម​ញាប់​\n",
      "-​ពិបាក​ដកដង្ហើម​\n",
      "-​គ្រុន​\n",
      "-​ក្អក​\n",
      "-​ដកដង្ហើម​តឹង លឺសូរ​ក្រេតក្រតៗ​\n",
      "-​ស្បែក បបូរមាត់ ឬ​ចុង​ម្រាមដៃ មើលទៅ​ពណ៌​ខៀវ​\n",
      "​រោគសញ្ញា​នៅក្នុង​ទារក​អាច​មិន​ច្បាស់​ដូចជា​ការ រអាក់រអួល ឬ​ពិបាក​ក្នុងការ​បំបៅ​។\n",
      "​ពេលណា​ត្រូវ​ទៅ​ជួប​គ្រូពេទ្យ​?\n",
      "​សូម​ទៅ​ជួប​គ្រូពេទ្យ​ភ្លាមៗ​ប្រសិនបើ​អ្នក ឬ​កូន​របស់​អ្នកមាន​ជំងឺ​ផ្តាសាយ ឬ​គ្រុនផ្តាសាយ​ដែល​មិន​ធូរស្រាល​ដោយ​ការ​សម្រាក និង​ការព្យាបាល ប្រសិនបើ​រោគសញ្ញា​ចាប់ផ្តើម​កាន់តែ​អាក្រក់​, ប្រសិនបើ​អ្នកមាន​បញ្ហា​សុខភាព​ផ្សេងទៀត ឬ​ប្រព័ន្ធ​ភាពស៊ាំ​ចុះខ្សោយ ឬ​ប្រសិនបើ​អ្នក កត់សម្គាល់​រោគសញ្ញា ដែល​អាច​កើត​មាននៃ​ជំងឺ​រលាក​សួត​។\n",
      "​នរណាម្នាក់ ដែលមាន​ការឆ្លង​មេរោគ​សួត​នេះ​ត្រូវការ​ការយកចិត្តទុកដាក់​ខាង​វេជ្ជសាស្ត្រ​៕​\n",
      "First process: ​នៅពេល​កុមារ​មាន​ជំងឺ​រលាក​សួត​រោគសញ្ញា​របស់​ពួកគេ​អាច​ពិបាក​សម្គាល់​។ រោគសញ្ញា​ទាំងនោះ​មានដូចជា​៖ -​ដកដង្ហើម​ញាប់​ -​ពិបាក​ដកដង្ហើម​ -​គ្រុន​ -​ក្អក​ -​ដកដង្ហើម​តឹង លឺសូរ​ក្រេតក្រតៗ​ -​ស្បែក បបូរមាត់ ឬ​ចុង​ម្រាមដៃ មើលទៅ​ពណ៌​ខៀវ​ ​រោគសញ្ញា​នៅក្នុង​ទារក​អាច​មិន​ច្បាស់​ដូចជា​ការ រអាក់រអួល ឬ​ពិបាក​ក្នុងការ​បំបៅ​។ ​ពេលណា​ត្រូវ​ទៅ​ជួប​គ្រូពេទ្យ​? ​សូម​ទៅ​ជួប​គ្រូពេទ្យ​ភ្លាមៗ​ប្រសិនបើ​អ្នក ឬ​កូន​របស់​អ្នកមាន​ជំងឺ​ផ្តាសាយ ឬ​គ្រុនផ្តាសាយ​ដែល​មិន​ធូរស្រាល​ដោយ​ការ​សម្រាក និង​ការព្យាបាល ប្រសិនបើ​រោគសញ្ញា​ចាប់ផ្តើម​កាន់តែ​អាក្រក់​, ប្រសិនបើ​អ្នកមាន​បញ្ហា​សុខភាព​ផ្សេងទៀត ឬ​ប្រព័ន្ធ​ភាពស៊ាំ​ចុះខ្សោយ ឬ​ប្រសិនបើ​អ្នក កត់សម្គាល់​រោគសញ្ញា ដែល​អាច​កើត​មាននៃ​ជំងឺ​រលាក​សួត​។ ​នរណាម្នាក់ ដែលមាន​ការឆ្លង​មេរោគ​សួត​នេះ​ត្រូវការ​ការយកចិត្តទុកដាក់​ខាង​វេជ្ជសាស្ត្រ​៕​\n",
      "Second process: នៅពេលកុមារមានជំងឺរលាកសួតរោគសញ្ញារបស់ពួកគេអាចពិបាកសម្គាល់ រោគសញ្ញាទាំងនោះមានដូចជា -ដកដង្ហើមញាប់ -ពិបាកដកដង្ហើម -គ្រុន -ក្អក -ដកដង្ហើមតឹង លឺសូរក្រេតក្រតៗ -ស្បែក បបូរមាត់ ឬចុងម្រាមដៃ មើលទៅពណ៌ខៀវ រោគសញ្ញានៅក្នុងទារកអាចមិនច្បាស់ដូចជាការ រអាក់រអួល ឬពិបាកក្នុងការបំបៅ ពេលណាត្រូវទៅជួបគ្រូពេទ្យ? សូមទៅជួបគ្រូពេទ្យភ្លាមៗប្រសិនបើអ្នក ឬកូនរបស់អ្នកមានជំងឺផ្តាសាយ ឬគ្រុនផ្តាសាយដែលមិនធូរស្រាលដោយការសម្រាក និងការព្យាបាល ប្រសិនបើរោគសញ្ញាចាប់ផ្តើមកាន់តែអាក្រក់, ប្រសិនបើអ្នកមានបញ្ហាសុខភាពផ្សេងទៀត ឬប្រព័ន្ធភាពស៊ាំចុះខ្សោយ ឬប្រសិនបើអ្នក កត់សម្គាល់រោគសញ្ញា ដែលអាចកើតមាននៃជំងឺរលាកសួត នរណាម្នាក់ ដែលមានការឆ្លងមេរោគសួតនេះត្រូវការការយកចិត្តទុកដាក់ខាងវេជ្ជសាស្ត្រ\n"
     ]
    }
   ],
   "source": [
    "first_process = cleaner.clean_noisy_content(loaded_dataset[0]['content'])\n",
    "second_process = cleaner.clean_text(first_process)\n",
    "\n",
    "print(f\"Original content: {loaded_dataset[0]['content']}\")\n",
    "print(f\"First process: {first_process}\")\n",
    "print(f\"Second process: {second_process}\") # I don't need to use the second process, the first process is enough for this dataset"
   ]
  },
  {
   "cell_type": "code",
   "execution_count": 8,
   "metadata": {},
   "outputs": [],
   "source": [
    "# clean the dataset\n",
    "cleaned_dataset = []\n",
    "for item in loaded_dataset:\n",
    "    cleaned_content = cleaner.clean_noisy_content(item['content'])\n",
    "    if not cleaned_content: # skip empty content\n",
    "        continue\n",
    "    cleaned_dataset.append({\n",
    "        'content': cleaned_content,\n",
    "        'label': item['label'],\n",
    "    })"
   ]
  },
  {
   "cell_type": "code",
   "execution_count": 9,
   "metadata": {},
   "outputs": [
    {
     "data": {
      "text/plain": [
       "182"
      ]
     },
     "execution_count": 9,
     "metadata": {},
     "output_type": "execute_result"
    }
   ],
   "source": [
    "len(cleaned_dataset)"
   ]
  },
  {
   "cell_type": "code",
   "execution_count": 10,
   "metadata": {},
   "outputs": [],
   "source": [
    "# save the cleaned dataset\n",
    "with open('data/20250616_khmer_health_news_dataset_for_binary_classification_cleaned.json', 'w', encoding='utf-8') as f:\n",
    "    json.dump(cleaned_dataset, f, ensure_ascii=False, indent=2)"
   ]
  },
  {
   "cell_type": "markdown",
   "metadata": {},
   "source": [
    "## Zero-shot Classification"
   ]
  },
  {
   "cell_type": "code",
   "execution_count": 9,
   "metadata": {},
   "outputs": [
    {
     "name": "stdout",
     "output_type": "stream",
     "text": [
      "Testing the model with the cleaned dataset (10 samples)...\n"
     ]
    },
    {
     "name": "stderr",
     "output_type": "stream",
     "text": [
      "100%|██████████| 10/10 [00:10<00:00,  1.01s/it]\n"
     ]
    }
   ],
   "source": [
    "import os\n",
    "from google import genai\n",
    "from dotenv import load_dotenv\n",
    "from tqdm import tqdm\n",
    "from utils.prompt import binary_classificaition_prompt_zero_shot\n",
    "from utils.response_parser import json_string_response_parser\n",
    "from utils import prompt\n",
    "\n",
    "# load the env file\n",
    "load_dotenv()\n",
    "\n",
    "# load the API key from the environment variable\n",
    "client = genai.Client(api_key=os.getenv(\"GEMINI_KEY\"))\n",
    "\n",
    "response_results = [] # (actual, predicted)\n",
    "\n",
    "print(\"Testing the model with the cleaned dataset (10 samples)...\")\n",
    "for item in tqdm(cleaned_dataset[:10]):  # limit to 10 samples for testing\n",
    "    response = client.models.generate_content(\n",
    "        model=\"gemini-2.0-flash\",\n",
    "        contents=binary_classificaition_prompt_zero_shot(item['content'])\n",
    "    )\n",
    "    parsed_response = json_string_response_parser(response.text)\n",
    "    response_results.append((item['label'], int(parsed_response['is_health_related'])))"
   ]
  },
  {
   "cell_type": "code",
   "execution_count": 11,
   "metadata": {},
   "outputs": [
    {
     "name": "stdout",
     "output_type": "stream",
     "text": [
      "              precision    recall  f1-score   support\n",
      "\n",
      "  Non-health       1.00      1.00      1.00         5\n",
      "      Health       1.00      1.00      1.00         5\n",
      "\n",
      "    accuracy                           1.00        10\n",
      "   macro avg       1.00      1.00      1.00        10\n",
      "weighted avg       1.00      1.00      1.00        10\n",
      "\n"
     ]
    }
   ],
   "source": [
    "from sklearn.metrics import classification_report\n",
    "\n",
    "y_true = [result[0] for result in response_results]\n",
    "y_pred = [result[1] for result in response_results]\n",
    "print(classification_report(y_true, y_pred, target_names=['Non-health', 'Health'], digits=2))\n"
   ]
  },
  {
   "cell_type": "code",
   "execution_count": null,
   "metadata": {},
   "outputs": [],
   "source": [
    "from utils import prompt\n",
    "from utils.response_parser import json_string_response_parser\n",
    "\n",
    "# test for extracting event entities\n",
    "sample_test = cleaned_dataset[0]['content']\n",
    "prompt_test = prompt.event_extraction_prompt_zero_shot(sample_test)\n",
    "\n",
    "response = client.models.generate_content(\n",
    "    model=\"gemini-2.0-flash\",\n",
    "    contents=prompt_test\n",
    ")"
   ]
  },
  {
   "cell_type": "code",
   "execution_count": 15,
   "metadata": {},
   "outputs": [
    {
     "data": {
      "text/plain": [
       "{'Infect': [{'infected': 'នរណាម្នាក់ ដែលមាន\\u200bការឆ្លង\\u200bមេរោគ\\u200bសួត\\u200bនេះ',\n",
       "   'disease': 'ការឆ្លង\\u200bមេរោគ\\u200bសួត',\n",
       "   'place': 'Not Mentioned',\n",
       "   'time': 'Not Mentioned',\n",
       "   'value': 'Not Mentioned',\n",
       "   'information-source': 'Not Mentioned'}],\n",
       " 'Spread': [],\n",
       " 'Symptom': [{'person': 'កុមារ',\n",
       "   'symptom': 'ដកដង្ហើម\\u200bញាប់\\u200b, ពិបាក\\u200bដកដង្ហើម\\u200b, គ្រុន\\u200b, ក្អក\\u200b, ដកដង្ហើម\\u200bតឹង លឺសូរ\\u200bក្រេតក្រតៗ\\u200b, ស្បែក បបូរមាត់ ឬ\\u200bចុង\\u200bម្រាមដៃ មើលទៅ\\u200bពណ៌\\u200bខៀវ',\n",
       "   'disease': 'ជំងឺ\\u200bរលាក\\u200bសួត',\n",
       "   'place': 'Not Mentioned',\n",
       "   'time': 'Not Mentioned',\n",
       "   'duration': 'Not Mentioned',\n",
       "   'information-source': 'Not Mentioned'},\n",
       "  {'person': 'ទារក',\n",
       "   'symptom': 'រអាក់រអួល ឬ\\u200bពិបាក\\u200bក្នុងការ\\u200bបំបៅ',\n",
       "   'disease': 'ជំងឺ\\u200bរលាក\\u200bសួត',\n",
       "   'place': 'Not Mentioned',\n",
       "   'time': 'Not Mentioned',\n",
       "   'duration': 'Not Mentioned',\n",
       "   'information-source': 'Not Mentioned'}],\n",
       " 'Prevent': [],\n",
       " 'Control': [],\n",
       " 'Cure': [],\n",
       " 'Death': []}"
      ]
     },
     "execution_count": 15,
     "metadata": {},
     "output_type": "execute_result"
    }
   ],
   "source": [
    "json_string_response_parser(response.text)"
   ]
  },
  {
   "cell_type": "markdown",
   "metadata": {},
   "source": [
    "**Note**: Testing with large dataset will exhausted the model leading to low performance and with the api calls, it has expensive cost to handle with large amount of requests."
   ]
  },
  {
   "cell_type": "code",
   "execution_count": 51,
   "metadata": {},
   "outputs": [
    {
     "name": "stdout",
     "output_type": "stream",
     "text": [
      "              precision    recall  f1-score   support\n",
      "\n",
      "  Non-health       0.55      0.54      0.55       100\n",
      "      Health       0.45      0.46      0.46        82\n",
      "\n",
      "    accuracy                           0.51       182\n",
      "   macro avg       0.50      0.50      0.50       182\n",
      "weighted avg       0.51      0.51      0.51       182\n",
      "\n"
     ]
    }
   ],
   "source": [
    "from random import randint\n",
    "\n",
    "ran_res = [randint(0, 1) for _ in range(len(cleaned_dataset))]\n",
    "y_true = [item['label'] for item in cleaned_dataset]\n",
    "print(classification_report(y_true, ran_res, target_names=['Non-health', 'Health'], digits=2))"
   ]
  },
  {
   "cell_type": "markdown",
   "metadata": {},
   "source": [
    "Above is the make up random result clarifying that without learning just random guess at least get around 50% accuracy. Therefore, the model yield result around this boundary can be entailed as not usable model."
   ]
  },
  {
   "cell_type": "markdown",
   "metadata": {},
   "source": [
    "### Test with Ollama"
   ]
  },
  {
   "cell_type": "code",
   "execution_count": 4,
   "metadata": {},
   "outputs": [
    {
     "name": "stdout",
     "output_type": "stream",
     "text": [
      "Length of cleaned dataset: 182\n"
     ]
    }
   ],
   "source": [
    "from llms import ollamas\n",
    "from utils import prompt\n",
    "import json\n",
    "\n",
    "\n",
    "# Load the cleaned dataset\n",
    "with open('data/20250616_khmer_health_news_dataset_for_binary_classification_cleaned.json', 'r', encoding='utf-8') as f:\n",
    "    cleaned_dataset = json.load(f)\n",
    "\n",
    "print(f\"Length of cleaned dataset: {len(cleaned_dataset)}\")"
   ]
  },
  {
   "cell_type": "code",
   "execution_count": 7,
   "metadata": {},
   "outputs": [
    {
     "data": {
      "text/plain": [
       "{'is_health_related': True,\n",
       " 'health_info': {'condition': 'Orthostatic Hypotension',\n",
       "  'symptoms': ['Dizziness or lightheadedness when standing up quickly',\n",
       "   'Fainting or near-fainting',\n",
       "   'Rapid heartbeat',\n",
       "   'Sweating',\n",
       "   'Nausea and vomiting'],\n",
       "  'causes': ['Dehydration or low blood volume',\n",
       "   'Medications such as diuretics, beta-blockers, and certain antidepressants',\n",
       "   'Anxiety disorders, stress, or panic attacks',\n",
       "   'Low blood sugar',\n",
       "   'Overexertion or physical strain'],\n",
       "  'treatment': ['Lying down to help increase blood pressure',\n",
       "   'Sipping water or other fluids to rehydrate',\n",
       "   'Avoiding strenuous activities and taking regular breaks',\n",
       "   'Elevating the legs above the level of the heart',\n",
       "   'Medications such as midodrine, fludrocortisone, or ephedrine'],\n",
       "  'prevention': ['Staying hydrated by drinking plenty of water',\n",
       "   'Avoiding standing for long periods without sitting down',\n",
       "   'Taking regular breaks to rest and stretch',\n",
       "   'Maintaining a healthy diet and lifestyle',\n",
       "   'Getting enough sleep and practicing stress-reducing techniques']}}"
      ]
     },
     "execution_count": 7,
     "metadata": {},
     "output_type": "execute_result"
    }
   ],
   "source": [
    "from utils.response_parser import json_string_response_parser\n",
    "\n",
    "test = prompt.binary_classificaition_prompt_zero_shot(cleaned_dataset[1]['content'])\n",
    "\n",
    "json_string_response_parser(ollamas.chat_with_ollama(\n",
    "    prompt=test,\n",
    "    model=\"llama3.2\",\n",
    "))"
   ]
  },
  {
   "cell_type": "code",
   "execution_count": 10,
   "metadata": {},
   "outputs": [
    {
     "name": "stdout",
     "output_type": "stream",
     "text": [
      "Testing the model with the cleaned dataset 182 samples...\n"
     ]
    },
    {
     "name": "stderr",
     "output_type": "stream",
     "text": [
      "100%|██████████| 10/10 [00:06<00:00,  1.47it/s]\n"
     ]
    }
   ],
   "source": [
    "from tqdm import tqdm\n",
    "\n",
    "\n",
    "response_results = []  # (actual, predicted)\n",
    "print(f\"Testing the model with the cleaned dataset {len(cleaned_dataset)} samples...\")\n",
    "for item in tqdm(cleaned_dataset[:10]):  # limit to 10 samples for testing\n",
    "    response = ollamas.chat_with_ollama(\n",
    "        prompt=prompt.binary_classificaition_prompt_zero_shot(item['content']),\n",
    "        model=\"llama3.2\",\n",
    "    )\n",
    "    parsed_response = json_string_response_parser(response)\n",
    "    response_results.append((item['label'], int(parsed_response['is_health_related'])))"
   ]
  },
  {
   "cell_type": "code",
   "execution_count": 12,
   "metadata": {},
   "outputs": [
    {
     "name": "stdout",
     "output_type": "stream",
     "text": [
      "              precision    recall  f1-score   support\n",
      "\n",
      "  Non-health       1.00      0.80      0.89         5\n",
      "      Health       0.83      1.00      0.91         5\n",
      "\n",
      "    accuracy                           0.90        10\n",
      "   macro avg       0.92      0.90      0.90        10\n",
      "weighted avg       0.92      0.90      0.90        10\n",
      "\n"
     ]
    }
   ],
   "source": [
    "from sklearn.metrics import classification_report\n",
    "\n",
    "y_true = [result[0] for result in response_results]\n",
    "y_pred = [result[1] for result in response_results]\n",
    "\n",
    "print(classification_report(y_true, y_pred, target_names=['Non-health', 'Health'], digits=2))"
   ]
  },
  {
   "cell_type": "code",
   "execution_count": 4,
   "metadata": {},
   "outputs": [
    {
     "data": {
      "text/plain": [
       "{'Infect': [{'infected': 'A 45-year-old man',\n",
       "   'disease': 'Malaria',\n",
       "   'place': 'Cambodia',\n",
       "   'time': 'Not Mentioned',\n",
       "   'value': 'Not Mentioned',\n",
       "   'information-source': 'Ministry of Health'}],\n",
       " 'Spread': [{'population': 'People in Phnom Penh Province',\n",
       "   'disease': 'Malaria',\n",
       "   'place': 'Cambodia',\n",
       "   'time': 'Since the start of the year',\n",
       "   'value': 'Increasing cases',\n",
       "   'trend': 'Increasing',\n",
       "   'information-source': 'Local News'}],\n",
       " 'Symptom': [{'person': 'A 25-year-old woman',\n",
       "   'symptom': 'Fever and cough',\n",
       "   'disease': 'Malaria',\n",
       "   'place': 'Her home in Phnom Penh Province',\n",
       "   'time': 'Since the previous day',\n",
       "   'duration': 'Until now',\n",
       "   'information-source': 'Self-reported'}],\n",
       " 'Prevent': [{'agent': 'Citizens',\n",
       "   'disease': 'Malaria',\n",
       "   'means': 'Using insecticide-treated bed nets and wearing protective clothing',\n",
       "   'information-source': 'Ministry of Health'}],\n",
       " 'Control': [{'authority': 'CDC',\n",
       "   'disease': 'Malaria',\n",
       "   'means': 'Conducting regular surveillance and contact tracing',\n",
       "   'place': 'Phnom Penh Province',\n",
       "   'time': 'Since the start of the outbreak',\n",
       "   'information-source': 'Local News'}],\n",
       " 'Cure': [{'cured': 'A 35-year-old man who received antimalarial medication',\n",
       "   'disease': 'Malaria',\n",
       "   'means': 'Antimalarial medication',\n",
       "   'place': 'Hospital in Phnom Penh Province',\n",
       "   'time': 'After a week of treatment',\n",
       "   'value': 'Not Mentioned',\n",
       "   'facility': 'Hospital',\n",
       "   'information-source': 'Local News'}],\n",
       " 'Death': [{'dead': 'A 50-year-old man who died from malaria complications',\n",
       "   'disease': 'Malaria',\n",
       "   'place': 'Hospital in Phnom Penh Province',\n",
       "   'time': 'Last week',\n",
       "   'value': 'Not Mentioned',\n",
       "   'trend': 'Rising'}]}"
      ]
     },
     "execution_count": 4,
     "metadata": {},
     "output_type": "execute_result"
    }
   ],
   "source": [
    "from utils import prompt\n",
    "from utils.response_parser import json_string_response_parser\n",
    "\n",
    "# test for extracting event entities\n",
    "sample_test = cleaned_dataset[0]['content']\n",
    "prompt_test = prompt.event_extraction_prompt_zero_shot(sample_test)\n",
    "\n",
    "response = ollamas.chat_with_ollama(prompt_test, model='llama3.2')\n",
    "\n",
    "json_string_response_parser(response)"
   ]
  },
  {
   "cell_type": "code",
   "execution_count": 6,
   "metadata": {},
   "outputs": [
    {
     "name": "stdout",
     "output_type": "stream",
     "text": [
      "​នៅពេល​កុមារ​មាន​ជំងឺ​រលាក​សួត​រោគសញ្ញា​របស់​ពួកគេ​អាច​ពិបាក​សម្គាល់​។ រោគសញ្ញា​ទាំងនោះ​មានដូចជា​៖ -​ដកដង្ហើម​ញាប់​ -​ពិបាក​ដកដង្ហើម​ -​គ្រុន​ -​ក្អក​ -​ដកដង្ហើម​តឹង លឺសូរ​ក្រេតក្រតៗ​ -​ស្បែក បបូរមាត់ ឬ​ចុង​ម្រាមដៃ មើលទៅ​ពណ៌​ខៀវ​ ​រោគសញ្ញា​នៅក្នុង​ទារក​អាច​មិន​ច្បាស់​ដូចជា​ការ រអាក់រអួល ឬ​ពិបាក​ក្នុងការ​បំបៅ​។ ​ពេលណា​ត្រូវ​ទៅ​ជួប​គ្រូពេទ្យ​? ​សូម​ទៅ​ជួប​គ្រូពេទ្យ​ភ្លាមៗ​ប្រសិនបើ​អ្នក ឬ​កូន​របស់​អ្នកមាន​ជំងឺ​ផ្តាសាយ ឬ​គ្រុនផ្តាសាយ​ដែល​មិន​ធូរស្រាល​ដោយ​ការ​សម្រាក និង​ការព្យាបាល ប្រសិនបើ​រោគសញ្ញា​ចាប់ផ្តើម​កាន់តែ​អាក្រក់​, ប្រសិនបើ​អ្នកមាន​បញ្ហា​សុខភាព​ផ្សេងទៀត ឬ​ប្រព័ន្ធ​ភាពស៊ាំ​ចុះខ្សោយ ឬ​ប្រសិនបើ​អ្នក កត់សម្គាល់​រោគសញ្ញា ដែល​អាច​កើត​មាននៃ​ជំងឺ​រលាក​សួត​។ ​នរណាម្នាក់ ដែលមាន​ការឆ្លង​មេរោគ​សួត​នេះ​ត្រូវការ​ការយកចិត្តទុកដាក់​ខាង​វេជ្ជសាស្ត្រ​៕​\n"
     ]
    }
   ],
   "source": [
    "print(sample_test)"
   ]
  },
  {
   "cell_type": "markdown",
   "metadata": {},
   "source": [
    "`The result above is coming from such an made up from the LLM.`"
   ]
  },
  {
   "cell_type": "markdown",
   "metadata": {},
   "source": [
    "## Test with Gemma3:4B"
   ]
  },
  {
   "cell_type": "code",
   "execution_count": 21,
   "metadata": {},
   "outputs": [],
   "source": [
    "from llms import gemma3_4b"
   ]
  },
  {
   "cell_type": "code",
   "execution_count": 20,
   "metadata": {},
   "outputs": [],
   "source": [
    "del gemma3_4b"
   ]
  },
  {
   "cell_type": "code",
   "execution_count": 8,
   "metadata": {},
   "outputs": [
    {
     "name": "stdout",
     "output_type": "stream",
     "text": [
      "Testing the model with the cleaned dataset 182 samples...\n"
     ]
    },
    {
     "name": "stderr",
     "output_type": "stream",
     "text": [
      "  0%|          | 0/10 [00:20<?, ?it/s]\n"
     ]
    },
    {
     "ename": "ValueError",
     "evalue": "No complete JSON object found.",
     "output_type": "error",
     "traceback": [
      "\u001b[31m---------------------------------------------------------------------------\u001b[39m",
      "\u001b[31mValueError\u001b[39m                                Traceback (most recent call last)",
      "\u001b[36mCell\u001b[39m\u001b[36m \u001b[39m\u001b[32mIn[8]\u001b[39m\u001b[32m, line 7\u001b[39m\n\u001b[32m      5\u001b[39m \u001b[38;5;28;01mfor\u001b[39;00m item \u001b[38;5;129;01min\u001b[39;00m tqdm(cleaned_dataset[:\u001b[32m10\u001b[39m]):  \u001b[38;5;66;03m# limit to 10 samples for testing\u001b[39;00m\n\u001b[32m      6\u001b[39m     response = gemma3_4b.chat_with_gemma3_4b(item[\u001b[33m'\u001b[39m\u001b[33mcontent\u001b[39m\u001b[33m'\u001b[39m])\n\u001b[32m----> \u001b[39m\u001b[32m7\u001b[39m     parsed_response = \u001b[43mjson_string_response_parser\u001b[49m\u001b[43m(\u001b[49m\u001b[43mresponse\u001b[49m\u001b[43m)\u001b[49m\n\u001b[32m      8\u001b[39m     response_results.append((item[\u001b[33m'\u001b[39m\u001b[33mlabel\u001b[39m\u001b[33m'\u001b[39m], \u001b[38;5;28mint\u001b[39m(parsed_response[\u001b[33m'\u001b[39m\u001b[33mis_health_related\u001b[39m\u001b[33m'\u001b[39m])))\n",
      "\u001b[36mFile \u001b[39m\u001b[32m~/Documents/internship_project/outbreak_event_extraction/utils/response_parser.py:37\u001b[39m, in \u001b[36mjson_string_response_parser\u001b[39m\u001b[34m(text)\u001b[39m\n\u001b[32m     35\u001b[39m start, end = find_json_bounds(compact_text)\n\u001b[32m     36\u001b[39m \u001b[38;5;28;01mif\u001b[39;00m start \u001b[38;5;129;01mis\u001b[39;00m \u001b[38;5;28;01mNone\u001b[39;00m \u001b[38;5;129;01mor\u001b[39;00m end \u001b[38;5;129;01mis\u001b[39;00m \u001b[38;5;28;01mNone\u001b[39;00m:\n\u001b[32m---> \u001b[39m\u001b[32m37\u001b[39m     \u001b[38;5;28;01mraise\u001b[39;00m \u001b[38;5;167;01mValueError\u001b[39;00m(\u001b[33m\"\u001b[39m\u001b[33mNo complete JSON object found.\u001b[39m\u001b[33m\"\u001b[39m)\n\u001b[32m     39\u001b[39m json_str = compact_text[start:end]\n\u001b[32m     41\u001b[39m \u001b[38;5;28;01mtry\u001b[39;00m:\n",
      "\u001b[31mValueError\u001b[39m: No complete JSON object found."
     ]
    }
   ],
   "source": [
    "from utils.response_parser import json_string_response_parser\n",
    "from tqdm import tqdm\n",
    "response_results = []  # (actual, predicted)\n",
    "print(f\"Testing the model with the cleaned dataset {len(cleaned_dataset)} samples...\")\n",
    "for item in tqdm(cleaned_dataset[:10]):  # limit to 10 samples for testing\n",
    "    response = gemma3_4b.chat_with_gemma3_4b(item['content'])\n",
    "    parsed_response = json_string_response_parser(response)\n",
    "    response_results.append((item['label'], int(parsed_response['is_health_related'])))"
   ]
  },
  {
   "cell_type": "code",
   "execution_count": 23,
   "metadata": {},
   "outputs": [
    {
     "name": "stdout",
     "output_type": "stream",
     "text": [
      "```json\n",
      "{\n",
      "  \"Infect\": [\n",
      "    {\n",
      "      \"infected\": \"individuals\",\n",
      "      \"disease\": \"pneumonia\",\n",
      "      \"place\": \"Not Mentioned\",\n",
      "      \"time\": \"Not Mentioned\",\n",
      "      \"value\": \"Not Mentioned\",\n",
      "      \"information-source\": \"Not Mentioned\"\n",
      "    }\n",
      "  ],\n",
      "  \"Spread\": [\n",
      "    {\n",
      "      \"population\": \"children\",\n",
      "      \"disease\n"
     ]
    }
   ],
   "source": [
    "print(gemma3_4b.chat_with_gemma3_4b(\n",
    "    prompt.event_extraction_prompt_zero_shot(cleaned_dataset[0]['content'])\n",
    "))"
   ]
  }
 ],
 "metadata": {
  "kernelspec": {
   "display_name": "ee",
   "language": "python",
   "name": "python3"
  },
  "language_info": {
   "codemirror_mode": {
    "name": "ipython",
    "version": 3
   },
   "file_extension": ".py",
   "mimetype": "text/x-python",
   "name": "python",
   "nbconvert_exporter": "python",
   "pygments_lexer": "ipython3",
   "version": "3.13.5"
  }
 },
 "nbformat": 4,
 "nbformat_minor": 2
}
